{
 "cells": [
  {
   "cell_type": "markdown",
   "metadata": {},
   "source": [
    "# SPAM or HAM"
   ]
  },
  {
   "cell_type": "code",
   "execution_count": 11,
   "metadata": {},
   "outputs": [],
   "source": [
    "train_spam = ['send us your password', 'review our website', 'send your password', 'send us your account']\n",
    "train_ham = ['Your activity report','benefits physical activity', 'the importance vows']\n",
    "test_emails = {'spam':['renew your password', 'renew your vows'], 'ham':['benefits of our account', 'the importance of physical activity']}"
   ]
  },
  {
   "cell_type": "code",
   "execution_count": 12,
   "metadata": {},
   "outputs": [
    {
     "name": "stdout",
     "output_type": "stream",
     "text": [
      "['us', 'review', 'password', 'our', 'your', 'website', 'account', 'send']\n"
     ]
    }
   ],
   "source": [
    "# make a vocabulary of unique words that occur in known spam emails\n",
    "vocab_words_spam = []\n",
    "\n",
    "for sentence in train_spam:\n",
    "    sentence_as_list = sentence.split()\n",
    "    for word in sentence_as_list:\n",
    "        vocab_words_spam.append(word)     \n",
    "vocab_words_spam = list(set(vocab_words_spam))\n",
    "\n",
    "print(vocab_words_spam)"
   ]
  },
  {
   "cell_type": "code",
   "execution_count": 13,
   "metadata": {},
   "outputs": [
    {
     "name": "stdout",
     "output_type": "stream",
     "text": [
      "['the', 'Your', 'physical', 'activity', 'benefits', 'vows', 'report', 'importance']\n"
     ]
    }
   ],
   "source": [
    "vocab_words_ham = []\n",
    "\n",
    "for sentence in train_ham:\n",
    "    sentence_as_list = sentence.split()\n",
    "    for word in sentence_as_list:\n",
    "        vocab_words_ham.append(word)\n",
    "vocab_words_ham = list(set(vocab_words_ham))\n",
    "\n",
    "print(vocab_words_ham)"
   ]
  },
  {
   "cell_type": "code",
   "execution_count": 14,
   "metadata": {},
   "outputs": [],
   "source": [
    "def compute_likelihood(vocab, train):\n",
    "    likelihood = {}\n",
    "    for w in vocab:\n",
    "        count = 0\n",
    "        for sentence in train:\n",
    "            if w in sentence:\n",
    "                #print(w+\":\", sentence)\n",
    "                count += 1\n",
    "        print(f\"Number of ham emails with the word '{w}': {count}\")\n",
    "        prob = (count + 1)/(len(train) + 2) # smoothing\n",
    "        print(f\"Hamicity of the word '{w}': {prob} \")\n",
    "        likelihood[w.lower()] = prob\n",
    "    return likelihood"
   ]
  },
  {
   "cell_type": "code",
   "execution_count": 15,
   "metadata": {},
   "outputs": [
    {
     "name": "stdout",
     "output_type": "stream",
     "text": [
      "Number of ham emails with the word 'us': 2\n",
      "Hamicity of the word 'us': 0.5 \n",
      "Number of ham emails with the word 'review': 1\n",
      "Hamicity of the word 'review': 0.3333333333333333 \n",
      "Number of ham emails with the word 'password': 2\n",
      "Hamicity of the word 'password': 0.5 \n",
      "Number of ham emails with the word 'our': 4\n",
      "Hamicity of the word 'our': 0.8333333333333334 \n",
      "Number of ham emails with the word 'your': 3\n",
      "Hamicity of the word 'your': 0.6666666666666666 \n",
      "Number of ham emails with the word 'website': 1\n",
      "Hamicity of the word 'website': 0.3333333333333333 \n",
      "Number of ham emails with the word 'account': 1\n",
      "Hamicity of the word 'account': 0.3333333333333333 \n",
      "Number of ham emails with the word 'send': 3\n",
      "Hamicity of the word 'send': 0.6666666666666666 \n"
     ]
    },
    {
     "data": {
      "text/plain": [
       "{'us': 0.5,\n",
       " 'review': 0.3333333333333333,\n",
       " 'password': 0.5,\n",
       " 'our': 0.8333333333333334,\n",
       " 'your': 0.6666666666666666,\n",
       " 'website': 0.3333333333333333,\n",
       " 'account': 0.3333333333333333,\n",
       " 'send': 0.6666666666666666}"
      ]
     },
     "execution_count": 15,
     "metadata": {},
     "output_type": "execute_result"
    }
   ],
   "source": [
    "likelihood_spam = compute_likelihood(vocab_words_spam, train_spam)\n",
    "likelihood_spam"
   ]
  },
  {
   "cell_type": "code",
   "execution_count": 16,
   "metadata": {},
   "outputs": [
    {
     "name": "stdout",
     "output_type": "stream",
     "text": [
      "Number of ham emails with the word 'the': 1\n",
      "Hamicity of the word 'the': 0.4 \n",
      "Number of ham emails with the word 'Your': 1\n",
      "Hamicity of the word 'Your': 0.4 \n",
      "Number of ham emails with the word 'physical': 1\n",
      "Hamicity of the word 'physical': 0.4 \n",
      "Number of ham emails with the word 'activity': 2\n",
      "Hamicity of the word 'activity': 0.6 \n",
      "Number of ham emails with the word 'benefits': 1\n",
      "Hamicity of the word 'benefits': 0.4 \n",
      "Number of ham emails with the word 'vows': 1\n",
      "Hamicity of the word 'vows': 0.4 \n",
      "Number of ham emails with the word 'report': 1\n",
      "Hamicity of the word 'report': 0.4 \n",
      "Number of ham emails with the word 'importance': 1\n",
      "Hamicity of the word 'importance': 0.4 \n"
     ]
    },
    {
     "data": {
      "text/plain": [
       "{'the': 0.4,\n",
       " 'your': 0.4,\n",
       " 'physical': 0.4,\n",
       " 'activity': 0.6,\n",
       " 'benefits': 0.4,\n",
       " 'vows': 0.4,\n",
       " 'report': 0.4,\n",
       " 'importance': 0.4}"
      ]
     },
     "execution_count": 16,
     "metadata": {},
     "output_type": "execute_result"
    }
   ],
   "source": [
    "likelihood_ham = compute_likelihood(vocab_words_ham, train_ham)\n",
    "likelihood_ham"
   ]
  },
  {
   "cell_type": "code",
   "execution_count": 17,
   "metadata": {},
   "outputs": [
    {
     "name": "stdout",
     "output_type": "stream",
     "text": [
      "Prior prob HAM: 0.5714285714285714\n",
      "Prior prob HAM: 0.42857142857142855\n"
     ]
    }
   ],
   "source": [
    "prior_spam = len(train_spam) / (len(train_spam)+(len(train_ham)))\n",
    "print(f'Prior prob HAM: {prior_spam}')\n",
    "prior_ham = len(train_ham) / (len(train_spam)+(len(train_ham)))\n",
    "print(f'Prior prob HAM: {prior_ham}')"
   ]
  },
  {
   "cell_type": "code",
   "execution_count": 18,
   "metadata": {},
   "outputs": [],
   "source": [
    "from functools import reduce\n",
    "\n",
    "def Bayes(txt):\n",
    "    probs_spam = []\n",
    "    probs_ham = []\n",
    "\n",
    "    txt_as_list = txt.split()\n",
    "    for w in txt_as_list:\n",
    "        if w in likelihood_spam:\n",
    "            pr_WS = likelihood_spam[w]\n",
    "        else:\n",
    "            pr_WS = 1.0/(len(train_spam)+2)\n",
    "        \n",
    "        if w in likelihood_ham:\n",
    "            pr_WH = likelihood_ham[w]\n",
    "        else:\n",
    "            pr_WH = 1.0/(len(train_ham)+2)\n",
    "        \n",
    "        probs_spam.append(pr_WS)\n",
    "        probs_ham.append(pr_WH)\n",
    "    \n",
    "    p_if_spam = prior_spam * reduce(lambda num1, num2: num1 * num2, probs_spam, 1.0)\n",
    "    p_if_ham = prior_ham * reduce(lambda num1, num2: num1 * num2, probs_ham, 1.0)\n",
    "    return p_if_spam / (p_if_spam + p_if_ham)"
   ]
  },
  {
   "cell_type": "code",
   "execution_count": 19,
   "metadata": {},
   "outputs": [
    {
     "name": "stdout",
     "output_type": "stream",
     "text": [
      "send us your password -> 0.9788566953797965\n",
      "review our website -> 0.9391435011269722\n",
      "send your password -> 0.9487666034155597\n",
      "send us your account -> 0.9686168151879117\n"
     ]
    }
   ],
   "source": [
    "for sentence in train_spam:\n",
    "    prob_spam = Bayes(sentence)\n",
    "    print(f'{sentence} -> {prob_spam}')"
   ]
  },
  {
   "cell_type": "code",
   "execution_count": 20,
   "metadata": {},
   "outputs": [
    {
     "name": "stdout",
     "output_type": "stream",
     "text": [
      "Your activity report -> 0.11394712853236098\n",
      "benefits physical activity -> 0.06041565973900434\n",
      "the importance vows -> 0.08796622097114706\n"
     ]
    }
   ],
   "source": [
    "for sentence in train_ham:\n",
    "    prob_spam = Bayes(sentence)\n",
    "    print(f'{sentence} -> {prob_spam}')"
   ]
  }
 ],
 "metadata": {
  "kernelspec": {
   "display_name": "Python 3",
   "language": "python",
   "name": "python3"
  },
  "language_info": {
   "codemirror_mode": {
    "name": "ipython",
    "version": 3
   },
   "file_extension": ".py",
   "mimetype": "text/x-python",
   "name": "python",
   "nbconvert_exporter": "python",
   "pygments_lexer": "ipython3",
   "version": "3.10.12"
  },
  "orig_nbformat": 4
 },
 "nbformat": 4,
 "nbformat_minor": 2
}
