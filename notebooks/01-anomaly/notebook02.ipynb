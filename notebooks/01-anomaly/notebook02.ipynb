{
 "cells": [
  {
   "cell_type": "code",
   "execution_count": 1,
   "id": "27044d72",
   "metadata": {
    "_cell_guid": "b1076dfc-b9ad-4769-8c92-a6c4dae69d19",
    "_uuid": "8f2839f25d086af736a60e9eeb907d3b93b6e0e5",
    "execution": {
     "iopub.execute_input": "2023-06-13T08:56:47.605315Z",
     "iopub.status.busy": "2023-06-13T08:56:47.604883Z",
     "iopub.status.idle": "2023-06-13T08:56:49.184002Z",
     "shell.execute_reply": "2023-06-13T08:56:49.183202Z"
    },
    "papermill": {
     "duration": 1.586046,
     "end_time": "2023-06-13T08:56:49.186129",
     "exception": false,
     "start_time": "2023-06-13T08:56:47.600083",
     "status": "completed"
    },
    "tags": []
   },
   "outputs": [],
   "source": [
    "import numpy as np\n",
    "import pandas as pd\n",
    "\n",
    "from sklearn.cluster import KMeans\n",
    "from sklearn.metrics import silhouette_score\n",
    "from sklearn.preprocessing import OneHotEncoder\n",
    "from sklearn.model_selection import train_test_split\n",
    "from sklearn.preprocessing import StandardScaler, LabelEncoder\n",
    "from sklearn.decomposition import PCA\n",
    "\n",
    "import matplotlib.pyplot as plt\n",
    "\n",
    "#from sklearn.datasets import fetch_kddcup99\n",
    "#from yellowbrick.cluster import KElbowVisualizer"
   ]
  },
  {
   "cell_type": "code",
   "execution_count": 2,
   "id": "32a87f8b",
   "metadata": {
    "execution": {
     "iopub.execute_input": "2023-06-13T08:56:49.194307Z",
     "iopub.status.busy": "2023-06-13T08:56:49.193332Z",
     "iopub.status.idle": "2023-06-13T08:56:50.796091Z",
     "shell.execute_reply": "2023-06-13T08:56:50.795222Z"
    },
    "papermill": {
     "duration": 1.608646,
     "end_time": "2023-06-13T08:56:50.798203",
     "exception": false,
     "start_time": "2023-06-13T08:56:49.189557",
     "status": "completed"
    },
    "tags": []
   },
   "outputs": [],
   "source": [
    "data = pd.read_csv('https://cloud.hrun.duckdns.org/s/D4Lxeo4oPg3MmyH/download/kddcup99.csv')"
   ]
  },
  {
   "cell_type": "code",
   "execution_count": 3,
   "id": "ae916abd",
   "metadata": {
    "execution": {
     "iopub.execute_input": "2023-06-13T08:56:50.811175Z",
     "iopub.status.busy": "2023-06-13T08:56:50.810854Z",
     "iopub.status.idle": "2023-06-13T08:56:50.981004Z",
     "shell.execute_reply": "2023-06-13T08:56:50.980010Z"
    },
    "papermill": {
     "duration": 0.176543,
     "end_time": "2023-06-13T08:56:50.983354",
     "exception": false,
     "start_time": "2023-06-13T08:56:50.806811",
     "status": "completed"
    },
    "tags": []
   },
   "outputs": [
    {
     "data": {
      "text/html": [
       "<div>\n",
       "<style scoped>\n",
       "    .dataframe tbody tr th:only-of-type {\n",
       "        vertical-align: middle;\n",
       "    }\n",
       "\n",
       "    .dataframe tbody tr th {\n",
       "        vertical-align: top;\n",
       "    }\n",
       "\n",
       "    .dataframe thead th {\n",
       "        text-align: right;\n",
       "    }\n",
       "</style>\n",
       "<table border=\"1\" class=\"dataframe\">\n",
       "  <thead>\n",
       "    <tr style=\"text-align: right;\">\n",
       "      <th></th>\n",
       "      <th>duration</th>\n",
       "      <th>src_bytes</th>\n",
       "      <th>dst_bytes</th>\n",
       "      <th>land</th>\n",
       "      <th>wrong_fragment</th>\n",
       "      <th>urgent</th>\n",
       "      <th>hot</th>\n",
       "      <th>num_failed_logins</th>\n",
       "      <th>logged_in</th>\n",
       "      <th>lnum_compromised</th>\n",
       "      <th>...</th>\n",
       "      <th>dst_host_count</th>\n",
       "      <th>dst_host_srv_count</th>\n",
       "      <th>dst_host_same_srv_rate</th>\n",
       "      <th>dst_host_diff_srv_rate</th>\n",
       "      <th>dst_host_same_src_port_rate</th>\n",
       "      <th>dst_host_srv_diff_host_rate</th>\n",
       "      <th>dst_host_serror_rate</th>\n",
       "      <th>dst_host_srv_serror_rate</th>\n",
       "      <th>dst_host_rerror_rate</th>\n",
       "      <th>dst_host_srv_rerror_rate</th>\n",
       "    </tr>\n",
       "  </thead>\n",
       "  <tbody>\n",
       "    <tr>\n",
       "      <th>count</th>\n",
       "      <td>494020.000000</td>\n",
       "      <td>4.940200e+05</td>\n",
       "      <td>4.940200e+05</td>\n",
       "      <td>494020.000000</td>\n",
       "      <td>494020.000000</td>\n",
       "      <td>494020.000000</td>\n",
       "      <td>494020.000000</td>\n",
       "      <td>494020.000000</td>\n",
       "      <td>494020.000000</td>\n",
       "      <td>494020.000000</td>\n",
       "      <td>...</td>\n",
       "      <td>494020.000000</td>\n",
       "      <td>494020.000000</td>\n",
       "      <td>494020.000000</td>\n",
       "      <td>494020.000000</td>\n",
       "      <td>494020.000000</td>\n",
       "      <td>494020.000000</td>\n",
       "      <td>494020.000000</td>\n",
       "      <td>494020.000000</td>\n",
       "      <td>494020.000000</td>\n",
       "      <td>494020.000000</td>\n",
       "    </tr>\n",
       "    <tr>\n",
       "      <th>mean</th>\n",
       "      <td>47.979400</td>\n",
       "      <td>3.025616e+03</td>\n",
       "      <td>8.685308e+02</td>\n",
       "      <td>0.000045</td>\n",
       "      <td>0.006433</td>\n",
       "      <td>0.000014</td>\n",
       "      <td>0.034519</td>\n",
       "      <td>0.000152</td>\n",
       "      <td>0.148245</td>\n",
       "      <td>0.010212</td>\n",
       "      <td>...</td>\n",
       "      <td>232.471248</td>\n",
       "      <td>188.666052</td>\n",
       "      <td>0.753781</td>\n",
       "      <td>0.030906</td>\n",
       "      <td>0.601936</td>\n",
       "      <td>0.006684</td>\n",
       "      <td>0.176754</td>\n",
       "      <td>0.176443</td>\n",
       "      <td>0.058118</td>\n",
       "      <td>0.057412</td>\n",
       "    </tr>\n",
       "    <tr>\n",
       "      <th>std</th>\n",
       "      <td>707.747185</td>\n",
       "      <td>9.882191e+05</td>\n",
       "      <td>3.304003e+04</td>\n",
       "      <td>0.006673</td>\n",
       "      <td>0.134805</td>\n",
       "      <td>0.005510</td>\n",
       "      <td>0.782103</td>\n",
       "      <td>0.015520</td>\n",
       "      <td>0.355343</td>\n",
       "      <td>1.798328</td>\n",
       "      <td>...</td>\n",
       "      <td>64.744601</td>\n",
       "      <td>106.040205</td>\n",
       "      <td>0.410780</td>\n",
       "      <td>0.109259</td>\n",
       "      <td>0.481309</td>\n",
       "      <td>0.042133</td>\n",
       "      <td>0.380593</td>\n",
       "      <td>0.380920</td>\n",
       "      <td>0.230590</td>\n",
       "      <td>0.230141</td>\n",
       "    </tr>\n",
       "    <tr>\n",
       "      <th>min</th>\n",
       "      <td>0.000000</td>\n",
       "      <td>0.000000e+00</td>\n",
       "      <td>0.000000e+00</td>\n",
       "      <td>0.000000</td>\n",
       "      <td>0.000000</td>\n",
       "      <td>0.000000</td>\n",
       "      <td>0.000000</td>\n",
       "      <td>0.000000</td>\n",
       "      <td>0.000000</td>\n",
       "      <td>0.000000</td>\n",
       "      <td>...</td>\n",
       "      <td>0.000000</td>\n",
       "      <td>0.000000</td>\n",
       "      <td>0.000000</td>\n",
       "      <td>0.000000</td>\n",
       "      <td>0.000000</td>\n",
       "      <td>0.000000</td>\n",
       "      <td>0.000000</td>\n",
       "      <td>0.000000</td>\n",
       "      <td>0.000000</td>\n",
       "      <td>0.000000</td>\n",
       "    </tr>\n",
       "    <tr>\n",
       "      <th>25%</th>\n",
       "      <td>0.000000</td>\n",
       "      <td>4.500000e+01</td>\n",
       "      <td>0.000000e+00</td>\n",
       "      <td>0.000000</td>\n",
       "      <td>0.000000</td>\n",
       "      <td>0.000000</td>\n",
       "      <td>0.000000</td>\n",
       "      <td>0.000000</td>\n",
       "      <td>0.000000</td>\n",
       "      <td>0.000000</td>\n",
       "      <td>...</td>\n",
       "      <td>255.000000</td>\n",
       "      <td>46.000000</td>\n",
       "      <td>0.410000</td>\n",
       "      <td>0.000000</td>\n",
       "      <td>0.000000</td>\n",
       "      <td>0.000000</td>\n",
       "      <td>0.000000</td>\n",
       "      <td>0.000000</td>\n",
       "      <td>0.000000</td>\n",
       "      <td>0.000000</td>\n",
       "    </tr>\n",
       "    <tr>\n",
       "      <th>50%</th>\n",
       "      <td>0.000000</td>\n",
       "      <td>5.200000e+02</td>\n",
       "      <td>0.000000e+00</td>\n",
       "      <td>0.000000</td>\n",
       "      <td>0.000000</td>\n",
       "      <td>0.000000</td>\n",
       "      <td>0.000000</td>\n",
       "      <td>0.000000</td>\n",
       "      <td>0.000000</td>\n",
       "      <td>0.000000</td>\n",
       "      <td>...</td>\n",
       "      <td>255.000000</td>\n",
       "      <td>255.000000</td>\n",
       "      <td>1.000000</td>\n",
       "      <td>0.000000</td>\n",
       "      <td>1.000000</td>\n",
       "      <td>0.000000</td>\n",
       "      <td>0.000000</td>\n",
       "      <td>0.000000</td>\n",
       "      <td>0.000000</td>\n",
       "      <td>0.000000</td>\n",
       "    </tr>\n",
       "    <tr>\n",
       "      <th>75%</th>\n",
       "      <td>0.000000</td>\n",
       "      <td>1.032000e+03</td>\n",
       "      <td>0.000000e+00</td>\n",
       "      <td>0.000000</td>\n",
       "      <td>0.000000</td>\n",
       "      <td>0.000000</td>\n",
       "      <td>0.000000</td>\n",
       "      <td>0.000000</td>\n",
       "      <td>0.000000</td>\n",
       "      <td>0.000000</td>\n",
       "      <td>...</td>\n",
       "      <td>255.000000</td>\n",
       "      <td>255.000000</td>\n",
       "      <td>1.000000</td>\n",
       "      <td>0.040000</td>\n",
       "      <td>1.000000</td>\n",
       "      <td>0.000000</td>\n",
       "      <td>0.000000</td>\n",
       "      <td>0.000000</td>\n",
       "      <td>0.000000</td>\n",
       "      <td>0.000000</td>\n",
       "    </tr>\n",
       "    <tr>\n",
       "      <th>max</th>\n",
       "      <td>58329.000000</td>\n",
       "      <td>6.933756e+08</td>\n",
       "      <td>5.155468e+06</td>\n",
       "      <td>1.000000</td>\n",
       "      <td>3.000000</td>\n",
       "      <td>3.000000</td>\n",
       "      <td>30.000000</td>\n",
       "      <td>5.000000</td>\n",
       "      <td>1.000000</td>\n",
       "      <td>884.000000</td>\n",
       "      <td>...</td>\n",
       "      <td>255.000000</td>\n",
       "      <td>255.000000</td>\n",
       "      <td>1.000000</td>\n",
       "      <td>1.000000</td>\n",
       "      <td>1.000000</td>\n",
       "      <td>1.000000</td>\n",
       "      <td>1.000000</td>\n",
       "      <td>1.000000</td>\n",
       "      <td>1.000000</td>\n",
       "      <td>1.000000</td>\n",
       "    </tr>\n",
       "  </tbody>\n",
       "</table>\n",
       "<p>8 rows × 38 columns</p>\n",
       "</div>"
      ],
      "text/plain": [
       "            duration     src_bytes     dst_bytes           land  \\\n",
       "count  494020.000000  4.940200e+05  4.940200e+05  494020.000000   \n",
       "mean       47.979400  3.025616e+03  8.685308e+02       0.000045   \n",
       "std       707.747185  9.882191e+05  3.304003e+04       0.006673   \n",
       "min         0.000000  0.000000e+00  0.000000e+00       0.000000   \n",
       "25%         0.000000  4.500000e+01  0.000000e+00       0.000000   \n",
       "50%         0.000000  5.200000e+02  0.000000e+00       0.000000   \n",
       "75%         0.000000  1.032000e+03  0.000000e+00       0.000000   \n",
       "max     58329.000000  6.933756e+08  5.155468e+06       1.000000   \n",
       "\n",
       "       wrong_fragment         urgent            hot  num_failed_logins  \\\n",
       "count   494020.000000  494020.000000  494020.000000      494020.000000   \n",
       "mean         0.006433       0.000014       0.034519           0.000152   \n",
       "std          0.134805       0.005510       0.782103           0.015520   \n",
       "min          0.000000       0.000000       0.000000           0.000000   \n",
       "25%          0.000000       0.000000       0.000000           0.000000   \n",
       "50%          0.000000       0.000000       0.000000           0.000000   \n",
       "75%          0.000000       0.000000       0.000000           0.000000   \n",
       "max          3.000000       3.000000      30.000000           5.000000   \n",
       "\n",
       "           logged_in  lnum_compromised  ...  dst_host_count  \\\n",
       "count  494020.000000     494020.000000  ...   494020.000000   \n",
       "mean        0.148245          0.010212  ...      232.471248   \n",
       "std         0.355343          1.798328  ...       64.744601   \n",
       "min         0.000000          0.000000  ...        0.000000   \n",
       "25%         0.000000          0.000000  ...      255.000000   \n",
       "50%         0.000000          0.000000  ...      255.000000   \n",
       "75%         0.000000          0.000000  ...      255.000000   \n",
       "max         1.000000        884.000000  ...      255.000000   \n",
       "\n",
       "       dst_host_srv_count  dst_host_same_srv_rate  dst_host_diff_srv_rate  \\\n",
       "count       494020.000000           494020.000000           494020.000000   \n",
       "mean           188.666052                0.753781                0.030906   \n",
       "std            106.040205                0.410780                0.109259   \n",
       "min              0.000000                0.000000                0.000000   \n",
       "25%             46.000000                0.410000                0.000000   \n",
       "50%            255.000000                1.000000                0.000000   \n",
       "75%            255.000000                1.000000                0.040000   \n",
       "max            255.000000                1.000000                1.000000   \n",
       "\n",
       "       dst_host_same_src_port_rate  dst_host_srv_diff_host_rate  \\\n",
       "count                494020.000000                494020.000000   \n",
       "mean                      0.601936                     0.006684   \n",
       "std                       0.481309                     0.042133   \n",
       "min                       0.000000                     0.000000   \n",
       "25%                       0.000000                     0.000000   \n",
       "50%                       1.000000                     0.000000   \n",
       "75%                       1.000000                     0.000000   \n",
       "max                       1.000000                     1.000000   \n",
       "\n",
       "       dst_host_serror_rate  dst_host_srv_serror_rate  dst_host_rerror_rate  \\\n",
       "count         494020.000000             494020.000000         494020.000000   \n",
       "mean               0.176754                  0.176443              0.058118   \n",
       "std                0.380593                  0.380920              0.230590   \n",
       "min                0.000000                  0.000000              0.000000   \n",
       "25%                0.000000                  0.000000              0.000000   \n",
       "50%                0.000000                  0.000000              0.000000   \n",
       "75%                0.000000                  0.000000              0.000000   \n",
       "max                1.000000                  1.000000              1.000000   \n",
       "\n",
       "       dst_host_srv_rerror_rate  \n",
       "count             494020.000000  \n",
       "mean                   0.057412  \n",
       "std                    0.230141  \n",
       "min                    0.000000  \n",
       "25%                    0.000000  \n",
       "50%                    0.000000  \n",
       "75%                    0.000000  \n",
       "max                    1.000000  \n",
       "\n",
       "[8 rows x 38 columns]"
      ]
     },
     "execution_count": 3,
     "metadata": {},
     "output_type": "execute_result"
    }
   ],
   "source": [
    "data.describe()"
   ]
  },
  {
   "cell_type": "code",
   "execution_count": 7,
   "id": "bfb51909",
   "metadata": {
    "execution": {
     "iopub.execute_input": "2023-06-13T08:56:50.991356Z",
     "iopub.status.busy": "2023-06-13T08:56:50.991051Z",
     "iopub.status.idle": "2023-06-13T08:56:52.323089Z",
     "shell.execute_reply": "2023-06-13T08:56:52.322268Z"
    },
    "papermill": {
     "duration": 1.338329,
     "end_time": "2023-06-13T08:56:52.325076",
     "exception": false,
     "start_time": "2023-06-13T08:56:50.986747",
     "status": "completed"
    },
    "tags": []
   },
   "outputs": [
    {
     "name": "stdout",
     "output_type": "stream",
     "text": [
      "395216\n"
     ]
    }
   ],
   "source": [
    "Y = data.iloc[:,-1] \n",
    "X = data.iloc[:,:-1]\n",
    "\n",
    "# Categorical features\n",
    "cat_features = ['protocol_type', 'service', 'flag']\n",
    "\n",
    "# One-Hot-Encoding \n",
    "encoder = OneHotEncoder(sparse_output=False)\n",
    "X_encoded = encoder.fit_transform(X[cat_features])\n",
    "\n",
    "new_feature_names = encoder.get_feature_names_out(input_features=cat_features)\n",
    "\n",
    "# Add the encoded array to the data and assign the new column names\n",
    "X_encoded_df = pd.DataFrame(X_encoded, columns=new_feature_names)\n",
    "X = pd.concat([X.drop(columns=cat_features), X_encoded_df], axis=1)\n",
    "\n",
    "X_train, X_test, y_train, y_test = train_test_split(X, Y, test_size=0.2, random_state=42)\n",
    "\n",
    "print(len(X_train))"
   ]
  },
  {
   "cell_type": "code",
   "execution_count": 9,
   "id": "45bb601d",
   "metadata": {
    "execution": {
     "iopub.execute_input": "2023-06-13T08:56:52.334361Z",
     "iopub.status.busy": "2023-06-13T08:56:52.333712Z",
     "iopub.status.idle": "2023-06-13T08:57:00.987611Z",
     "shell.execute_reply": "2023-06-13T08:57:00.986697Z"
    },
    "papermill": {
     "duration": 8.660788,
     "end_time": "2023-06-13T08:57:00.989535",
     "exception": false,
     "start_time": "2023-06-13T08:56:52.328747",
     "status": "completed"
    },
    "tags": []
   },
   "outputs": [
    {
     "data": {
      "image/png": "[encoded data removed]",
      "text/plain": [
       "<Figure size 640x480 with 1 Axes>"
      ]
     },
     "metadata": {},
     "output_type": "display_data"
    },
    {
     "name": "stdout",
     "output_type": "stream",
     "text": [
      "Optimal number of main components: 75\n",
      "[0, 1, 2, 3, 4, 5, 6, 7, 8, 9, 10, 11, 12, 13, 14, 15, 16, 17, 18, 19, 20, 21, 22, 23, 24, 25, 26, 27, 29, 30, 31, 32, 33, 34, 35, 36, 37, 39, 40, 41, 42, 43, 45, 46, 47, 48, 49, 50, 51, 52, 53, 54, 56, 57, 58, 59, 60, 61, 62, 63, 65, 66, 68, 70, 71, 72, 73, 74]\n"
     ]
    }
   ],
   "source": [
    "# Scaling the data \n",
    "scaler = StandardScaler()\n",
    "X_scaled = scaler.fit_transform(X_train)\n",
    "\n",
    "pca = PCA()\n",
    "pca.fit(X_scaled)\n",
    "\n",
    "explained_variance_ratio = pca.explained_variance_ratio_\n",
    "cumulative_variance = np.cumsum(explained_variance_ratio)\n",
    "\n",
    "plt.plot(range(1, len(cumulative_variance) + 1), cumulative_variance, marker='o')\n",
    "plt.xlabel('Number of main components')\n",
    "plt.ylabel('Cumulative explained variance')\n",
    "plt.title('Cumulative explained variance vs. number of principal components')\n",
    "plt.grid(True)\n",
    "plt.show()\n",
    "\n",
    "threshold = 0.90\n",
    "n_components = np.argmax(cumulative_variance >= threshold) + 1\n",
    "\n",
    "print(f'Optimal number of main components: {n_components}')\n",
    "\n",
    "pca = PCA(n_components=n_components)  # Wählen Sie die Anzahl der gewünschten Hauptkomponenten\n",
    "X_pca = pca.fit_transform(X_scaled)\n",
    "\n",
    "# Abrufen der Gewichtungen der ursprünglichen Features in den Hauptkomponenten\n",
    "feature_weights = pca.components_\n",
    "\n",
    "# Skalieren der Gewichte\n",
    "scaled_weights = feature_weights.T * np.sqrt(pca.explained_variance_)\n",
    "\n",
    "\n",
    "# Identifizieren der relevanten Features für jede Hauptkomponente\n",
    "relevant_features = [] \n",
    "index_selected_features = [] \n",
    "for i, weights in enumerate(scaled_weights):\n",
    "    component_features = []\n",
    "    for j, weight in enumerate(weights):\n",
    "        if abs(weight) > 0.4:  # Schwellenwert zur Bestimmung der Relevanz festlegen\n",
    "            component_features.append(j)  # Index des Features hinzufügen\n",
    "    relevant_features.append(component_features)\n",
    "\n",
    "# Ausgabe der relevanten Features für jede Hauptkomponente\n",
    "for i, component_features in enumerate(relevant_features):\n",
    "    for feature_index in component_features:\n",
    "        index_selected_features.append(feature_index)\n",
    "\n",
    "# Selectierung anhand der relevanten Features für jede Hauptkomponente\n",
    "index_selected_features = list(set(index_selected_features))\n",
    "X_scaled = X_train.iloc[:, index_selected_features]  \n",
    "#print(index_selected_features)"
   ]
  },
  {
   "cell_type": "code",
   "execution_count": 10,
   "id": "5cf389dc",
   "metadata": {
    "execution": {
     "iopub.execute_input": "2023-06-13T08:57:00.999888Z",
     "iopub.status.busy": "2023-06-13T08:57:00.999406Z",
     "iopub.status.idle": "2023-06-13T08:57:42.238724Z",
     "shell.execute_reply": "2023-06-13T08:57:42.237757Z"
    },
    "papermill": {
     "duration": 41.246537,
     "end_time": "2023-06-13T08:57:42.240616",
     "exception": false,
     "start_time": "2023-06-13T08:57:00.994079",
     "status": "completed"
    },
    "tags": []
   },
   "outputs": [
    {
     "ename": "NameError",
     "evalue": "name 'KElbowVisualizer' is not defined",
     "output_type": "error",
     "traceback": [
      "\u001b[0;31m---------------------------------------------------------------------------\u001b[0m",
      "\u001b[0;31mNameError\u001b[0m                                 Traceback (most recent call last)",
      "\u001b[1;32m/home/mantunes/git/aas/notebooks/01-anomaly/notebook02.ipynb Cell 6\u001b[0m line \u001b[0;36m3\n\u001b[1;32m      <a href='vscode-notebook-cell://wsl%2Bubuntu-22.04/home/mantunes/git/aas/notebooks/01-anomaly/notebook02.ipynb#W6sdnNjb2RlLXJlbW90ZQ%3D%3D?line=0'>1</a>\u001b[0m \u001b[39m# Instantiate the clustering model and visualizer\u001b[39;00m\n\u001b[1;32m      <a href='vscode-notebook-cell://wsl%2Bubuntu-22.04/home/mantunes/git/aas/notebooks/01-anomaly/notebook02.ipynb#W6sdnNjb2RlLXJlbW90ZQ%3D%3D?line=1'>2</a>\u001b[0m model \u001b[39m=\u001b[39m KMeans()\n\u001b[0;32m----> <a href='vscode-notebook-cell://wsl%2Bubuntu-22.04/home/mantunes/git/aas/notebooks/01-anomaly/notebook02.ipynb#W6sdnNjb2RlLXJlbW90ZQ%3D%3D?line=2'>3</a>\u001b[0m visualizer \u001b[39m=\u001b[39m KElbowVisualizer(model, k\u001b[39m=\u001b[39m(\u001b[39m4\u001b[39m,\u001b[39m12\u001b[39m),  timings\u001b[39m=\u001b[39m\u001b[39mFalse\u001b[39;00m)\n\u001b[1;32m      <a href='vscode-notebook-cell://wsl%2Bubuntu-22.04/home/mantunes/git/aas/notebooks/01-anomaly/notebook02.ipynb#W6sdnNjb2RlLXJlbW90ZQ%3D%3D?line=4'>5</a>\u001b[0m visualizer\u001b[39m.\u001b[39mfit(X_train)        \u001b[39m# Fit the data to the visualizer\u001b[39;00m\n\u001b[1;32m      <a href='vscode-notebook-cell://wsl%2Bubuntu-22.04/home/mantunes/git/aas/notebooks/01-anomaly/notebook02.ipynb#W6sdnNjb2RlLXJlbW90ZQ%3D%3D?line=5'>6</a>\u001b[0m visualizer\u001b[39m.\u001b[39mshow()        \u001b[39m# Finalize and render the figure\u001b[39;00m\n",
      "\u001b[0;31mNameError\u001b[0m: name 'KElbowVisualizer' is not defined"
     ]
    }
   ],
   "source": [
    "\n",
    "# Instantiate the clustering model and visualizer\n",
    "model = KMeans()\n",
    "visualizer = KElbowVisualizer(model, k=(4,12),  timings=False)\n",
    "\n",
    "visualizer.fit(X_train)        # Fit the data to the visualizer\n",
    "visualizer.show()        # Finalize and render the figure\n"
   ]
  },
  {
   "cell_type": "code",
   "execution_count": 7,
   "id": "d0152f7c",
   "metadata": {
    "execution": {
     "iopub.execute_input": "2023-06-13T08:57:42.253080Z",
     "iopub.status.busy": "2023-06-13T08:57:42.252729Z",
     "iopub.status.idle": "2023-06-13T08:57:46.906947Z",
     "shell.execute_reply": "2023-06-13T08:57:46.906006Z"
    },
    "papermill": {
     "duration": 4.662753,
     "end_time": "2023-06-13T08:57:46.909072",
     "exception": false,
     "start_time": "2023-06-13T08:57:42.246319",
     "status": "completed"
    },
    "tags": []
   },
   "outputs": [
    {
     "name": "stderr",
     "output_type": "stream",
     "text": [
      "/opt/conda/lib/python3.10/site-packages/sklearn/cluster/_kmeans.py:870: FutureWarning: The default value of `n_init` will change from 10 to 'auto' in 1.4. Set the value of `n_init` explicitly to suppress the warning\n",
      "  warnings.warn(\n"
     ]
    },
    {
     "name": "stdout",
     "output_type": "stream",
     "text": [
      "[0 0 0 ... 0 0 0]\n"
     ]
    }
   ],
   "source": [
    "k = 6\n",
    "kmeans = KMeans(n_clusters=k)\n",
    "kmeans.fit(X_train)\n",
    "\n",
    "# Berechnung der Distanzen der Datenpunkte zu ihren Zentren\n",
    "distances = kmeans.transform(X_train)\n",
    "\n",
    "# Ausgabe der identifizierten Ausreißer\n",
    "# print(\"distances:\")\n",
    "# for distance in distances:\n",
    "#     print(distance)\n",
    "\n",
    "# Index der Clusterzentren, zu denen die Punkte gehören\n",
    "cluster_indices = kmeans.labels_\n",
    "\n",
    "print(kmeans.labels_)\n",
    "\n",
    "# Setzen der Werte auf Null für Nicht-Cluster-Datenpunkte\n",
    "mask = (cluster_indices[:, None] == np.arange(distances.shape[1]))\n",
    "distances[~mask] = 0\n",
    "\n",
    "# Berechnung des Durchschnitts der Entfernungen für jedes Clusterzentrum  \n",
    "dictionary = {i: column for i, column in enumerate(zip(*distances))}\n",
    "\n",
    "\n",
    "# Mittelwerte über jeden Eintrag berechnen\n",
    "mean_distances = [sum(values) / len(values) for key, values in dictionary.items()]\n",
    "thresholds = np.array(mean_distances)  # thresholds als NumPy-Array anpassen\n",
    "\n",
    "    \n",
    "outliers = np.any(np.array(distances) > thresholds, axis=1)  # Überprüfung der Bedingung für jedes Element in distances\n",
    "\n",
    "\n",
    "    \n",
    "    \n"
   ]
  },
  {
   "cell_type": "code",
   "execution_count": 8,
   "id": "b22a637f",
   "metadata": {
    "execution": {
     "iopub.execute_input": "2023-06-13T08:57:46.921116Z",
     "iopub.status.busy": "2023-06-13T08:57:46.920838Z",
     "iopub.status.idle": "2023-06-13T08:57:46.931415Z",
     "shell.execute_reply": "2023-06-13T08:57:46.930492Z"
    },
    "papermill": {
     "duration": 0.018326,
     "end_time": "2023-06-13T08:57:46.932982",
     "exception": false,
     "start_time": "2023-06-13T08:57:46.914656",
     "status": "completed"
    },
    "tags": []
   },
   "outputs": [
    {
     "name": "stdout",
     "output_type": "stream",
     "text": [
      "7.953661277772975\n"
     ]
    }
   ],
   "source": [
    "filtered_outlier = y_train[outliers]\n",
    "\n",
    "\n",
    "filtered_labels = filtered_outlier[filtered_outlier != 'normal']\n",
    "\n",
    "\n",
    "\n",
    "\n",
    "\n",
    "count = (len(filtered_labels) *100) /len(filtered_outlier)\n",
    "\n",
    "print(count)\n"
   ]
  },
  {
   "cell_type": "code",
   "execution_count": 9,
   "id": "f963a129",
   "metadata": {
    "execution": {
     "iopub.execute_input": "2023-06-13T08:57:46.944755Z",
     "iopub.status.busy": "2023-06-13T08:57:46.944501Z",
     "iopub.status.idle": "2023-06-13T08:57:46.949466Z",
     "shell.execute_reply": "2023-06-13T08:57:46.948657Z"
    },
    "papermill": {
     "duration": 0.012758,
     "end_time": "2023-06-13T08:57:46.951117",
     "exception": false,
     "start_time": "2023-06-13T08:57:46.938359",
     "status": "completed"
    },
    "tags": []
   },
   "outputs": [],
   "source": [
    "# Beispiel-Distanzenmatrix\n",
    "distances = np.array([[0.5, 0.8, 1.2],\n",
    "                      [1.0, 0.7, 0.9],\n",
    "                      [1.5, 1.2, 0.6]])\n",
    "\n",
    "# Beispiel-Vektor mit Einsen und Nullen\n",
    "vector = np.array([1, 0, 1])\n",
    "\n",
    "\n",
    "\n",
    "# for index,  column in enumerate(distances.T):\n",
    "#     for v in range(len(column)):\n",
    "#                 if vector[v] != index:\n",
    "#                         distances[v][index] = 0\n",
    "                    \n",
    "\n",
    "                    \n",
    "\n",
    "\n"
   ]
  },
  {
   "cell_type": "raw",
   "id": "2dfaef0f",
   "metadata": {
    "papermill": {
     "duration": 0.005106,
     "end_time": "2023-06-13T08:57:46.961540",
     "exception": false,
     "start_time": "2023-06-13T08:57:46.956434",
     "status": "completed"
    },
    "tags": []
   },
   "source": []
  },
  {
   "cell_type": "code",
   "execution_count": 10,
   "id": "8ac99a8b",
   "metadata": {
    "execution": {
     "iopub.execute_input": "2023-06-13T08:57:46.973556Z",
     "iopub.status.busy": "2023-06-13T08:57:46.973280Z",
     "iopub.status.idle": "2023-06-13T08:57:46.977250Z",
     "shell.execute_reply": "2023-06-13T08:57:46.976374Z"
    },
    "papermill": {
     "duration": 0.012141,
     "end_time": "2023-06-13T08:57:46.978977",
     "exception": false,
     "start_time": "2023-06-13T08:57:46.966836",
     "status": "completed"
    },
    "tags": []
   },
   "outputs": [],
   "source": [
    "#Auswtungd label\n",
    "# beobahtde  distanze funktion auf featerues 1 3 6 12 15"
   ]
  }
 ],
 "metadata": {
  "kernelspec": {
   "display_name": "Python 3",
   "language": "python",
   "name": "python3"
  },
  "language_info": {
   "codemirror_mode": {
    "name": "ipython",
    "version": 3
   },
   "file_extension": ".py",
   "mimetype": "text/x-python",
   "name": "python",
   "nbconvert_exporter": "python",
   "pygments_lexer": "ipython3",
   "version": "3.10.12"
  },
  "papermill": {
   "default_parameters": {},
   "duration": 69.239289,
   "end_time": "2023-06-13T08:57:47.906004",
   "environment_variables": {},
   "exception": null,
   "input_path": "__notebook__.ipynb",
   "output_path": "__notebook__.ipynb",
   "parameters": {},
   "start_time": "2023-06-13T08:56:38.666715",
   "version": "2.4.0"
  }
 },
 "nbformat": 4,
 "nbformat_minor": 5
}
