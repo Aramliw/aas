{
 "cells": [
  {
   "cell_type": "markdown",
   "metadata": {},
   "source": [
    "# Anomly detection for IoT \n",
    "\n",
    "Preprocessed dataset for network based intrusion detection system in Iot Devices. \n",
    "Ultrasonic Sensor with Arduino and NodeMCU used to monitor the network and collect the network logs. \n",
    "NodeMCU with ESP8266 wifi module was used to send data to the server via wifi. \n",
    "\n",
    "For more detail, check [here](https://www.kaggle.com/datasets/speedwall10/iot-device-network-logs).\n"
   ]
  },
  {
   "cell_type": "code",
   "execution_count": 49,
   "metadata": {},
   "outputs": [],
   "source": [
    "%matplotlib inline\n",
    "import numpy as np\n",
    "import polars as pl\n",
    "import seaborn as sns\n",
    "import matplotlib.pyplot as plt\n",
    "plt.rcParams['figure.figsize'] = [20, 5]\n",
    "plt.rcParams[\"figure.autolayout\"] = True\n",
    "plt.rcParams.update({'font.size': 22})\n",
    "\n",
    "from sklearn.preprocessing import StandardScaler, LabelEncoder\n",
    "from sklearn.decomposition import PCA\n",
    "\n",
    "from yellowbrick.cluster import KElbowVisualizer\n",
    "\n",
    "from sklearn.cluster import KMeans\n"
   ]
  },
  {
   "cell_type": "code",
   "execution_count": 50,
   "metadata": {},
   "outputs": [
    {
     "data": {
      "text/html": [
       "<div><style>\n",
       ".dataframe > thead > tr > th,\n",
       ".dataframe > tbody > tr > td {\n",
       "  text-align: right;\n",
       "  white-space: pre-wrap;\n",
       "}\n",
       "</style>\n",
       "<small>shape: (5, 14)</small><table border=\"1\" class=\"dataframe\"><thead><tr><th>frame.number</th><th>frame.time</th><th>frame.len</th><th>eth.src</th><th>eth.dst</th><th>ip.src</th><th>ip.dst</th><th>ip.proto</th><th>ip.len</th><th>tcp.len</th><th>tcp.srcport</th><th>tcp.dstport</th><th>Value</th><th>normality</th></tr><tr><td>i64</td><td>i64</td><td>i64</td><td>i64</td><td>i64</td><td>i64</td><td>i64</td><td>f64</td><td>f64</td><td>f64</td><td>f64</td><td>f64</td><td>f64</td><td>i64</td></tr></thead><tbody><tr><td>95112</td><td>130042556224864</td><td>98</td><td>167275820076079</td><td>110425385261001</td><td>1921680121</td><td>1921680183</td><td>1.0</td><td>84.0</td><td>0.0</td><td>0.0</td><td>0.0</td><td>-2.0</td><td>2</td></tr><tr><td>105137</td><td>130307083141492</td><td>269</td><td>87971959760497</td><td>167275820076079</td><td>192168035</td><td>1921680121</td><td>6.0</td><td>255.0</td><td>215.0</td><td>54665.729502</td><td>80.0</td><td>72.875111</td><td>1</td></tr><tr><td>34685</td><td>124554761767515</td><td>193</td><td>189924305281355</td><td>167275820076079</td><td>1921680198</td><td>1921680121</td><td>6.0</td><td>179.0</td><td>127.0</td><td>56490.756532</td><td>80.0</td><td>-3.0</td><td>3</td></tr><tr><td>65805</td><td>125420115848261</td><td>169</td><td>110425385261001</td><td>167275820076079</td><td>1921680183</td><td>1921680121</td><td>6.0</td><td>155.0</td><td>103.0</td><td>53576.500725</td><td>80.0</td><td>-3.0</td><td>3</td></tr><tr><td>106715</td><td>130319237816423</td><td>269</td><td>87971959760497</td><td>167275820076079</td><td>192168035</td><td>1921680121</td><td>6.0</td><td>255.750261</td><td>215.750261</td><td>59189.610874</td><td>80.0</td><td>101.00732</td><td>1</td></tr></tbody></table></div>"
      ],
      "text/plain": [
       "shape: (5, 14)\n",
       "┌───────────┬───────────┬───────────┬───────────┬───┬───────────┬───────────┬───────────┬──────────┐\n",
       "│ frame.num ┆ frame.tim ┆ frame.len ┆ eth.src   ┆ … ┆ tcp.srcpo ┆ tcp.dstpo ┆ Value     ┆ normalit │\n",
       "│ ber       ┆ e         ┆ ---       ┆ ---       ┆   ┆ rt        ┆ rt        ┆ ---       ┆ y        │\n",
       "│ ---       ┆ ---       ┆ i64       ┆ i64       ┆   ┆ ---       ┆ ---       ┆ f64       ┆ ---      │\n",
       "│ i64       ┆ i64       ┆           ┆           ┆   ┆ f64       ┆ f64       ┆           ┆ i64      │\n",
       "╞═══════════╪═══════════╪═══════════╪═══════════╪═══╪═══════════╪═══════════╪═══════════╪══════════╡\n",
       "│ 95112     ┆ 130042556 ┆ 98        ┆ 167275820 ┆ … ┆ 0.0       ┆ 0.0       ┆ -2.0      ┆ 2        │\n",
       "│           ┆ 224864    ┆           ┆ 076079    ┆   ┆           ┆           ┆           ┆          │\n",
       "│ 105137    ┆ 130307083 ┆ 269       ┆ 879719597 ┆ … ┆ 54665.729 ┆ 80.0      ┆ 72.875111 ┆ 1        │\n",
       "│           ┆ 141492    ┆           ┆ 60497     ┆   ┆ 502       ┆           ┆           ┆          │\n",
       "│ 34685     ┆ 124554761 ┆ 193       ┆ 189924305 ┆ … ┆ 56490.756 ┆ 80.0      ┆ -3.0      ┆ 3        │\n",
       "│           ┆ 767515    ┆           ┆ 281355    ┆   ┆ 532       ┆           ┆           ┆          │\n",
       "│ 65805     ┆ 125420115 ┆ 169       ┆ 110425385 ┆ … ┆ 53576.500 ┆ 80.0      ┆ -3.0      ┆ 3        │\n",
       "│           ┆ 848261    ┆           ┆ 261001    ┆   ┆ 725       ┆           ┆           ┆          │\n",
       "│ 106715    ┆ 130319237 ┆ 269       ┆ 879719597 ┆ … ┆ 59189.610 ┆ 80.0      ┆ 101.00732 ┆ 1        │\n",
       "│           ┆ 816423    ┆           ┆ 60497     ┆   ┆ 874       ┆           ┆           ┆          │\n",
       "└───────────┴───────────┴───────────┴───────────┴───┴───────────┴───────────┴───────────┴──────────┘"
      ]
     },
     "execution_count": 50,
     "metadata": {},
     "output_type": "execute_result"
    }
   ],
   "source": [
    "df = pl.read_csv('https://cloud.hrun.duckdns.org/s/9YdoqYTGR4poZxe/download/IoT-DNL.csv')\n",
    "df = df.sample(int(df.shape[0]*0.2))\n",
    "df.head()"
   ]
  },
  {
   "cell_type": "code",
   "execution_count": 51,
   "metadata": {},
   "outputs": [
    {
     "data": {
      "text/html": [
       "<div><style>\n",
       ".dataframe > thead > tr > th,\n",
       ".dataframe > tbody > tr > td {\n",
       "  text-align: right;\n",
       "  white-space: pre-wrap;\n",
       "}\n",
       "</style>\n",
       "<small>shape: (9, 15)</small><table border=\"1\" class=\"dataframe\"><thead><tr><th>describe</th><th>frame.number</th><th>frame.time</th><th>frame.len</th><th>eth.src</th><th>eth.dst</th><th>ip.src</th><th>ip.dst</th><th>ip.proto</th><th>ip.len</th><th>tcp.len</th><th>tcp.srcport</th><th>tcp.dstport</th><th>Value</th><th>normality</th></tr><tr><td>str</td><td>f64</td><td>f64</td><td>f64</td><td>f64</td><td>f64</td><td>f64</td><td>f64</td><td>f64</td><td>f64</td><td>f64</td><td>f64</td><td>f64</td><td>f64</td><td>f64</td></tr></thead><tbody><tr><td>&quot;count&quot;</td><td>95485.0</td><td>95485.0</td><td>95485.0</td><td>95485.0</td><td>95485.0</td><td>95485.0</td><td>95485.0</td><td>95485.0</td><td>95485.0</td><td>95485.0</td><td>95485.0</td><td>95485.0</td><td>95485.0</td><td>95485.0</td></tr><tr><td>&quot;null_count&quot;</td><td>0.0</td><td>0.0</td><td>0.0</td><td>0.0</td><td>0.0</td><td>0.0</td><td>0.0</td><td>0.0</td><td>0.0</td><td>0.0</td><td>0.0</td><td>0.0</td><td>0.0</td><td>0.0</td></tr><tr><td>&quot;mean&quot;</td><td>52983.219322</td><td>1.2567e14</td><td>120.509284</td><td>1.2929e14</td><td>1.6085e14</td><td>8.5926e8</td><td>1.2084e9</td><td>2.849233</td><td>97.030887</td><td>60.744036</td><td>23702.140516</td><td>4470.040792</td><td>-3.802041</td><td>2.497251</td></tr><tr><td>&quot;std&quot;</td><td>32495.444889</td><td>2.0715e12</td><td>87.974136</td><td>4.4851e13</td><td>5.0658e13</td><td>1.9934e9</td><td>3.7707e9</td><td>3.288435</td><td>96.940357</td><td>87.343186</td><td>27889.780167</td><td>15334.798789</td><td>106.180306</td><td>1.707535</td></tr><tr><td>&quot;min&quot;</td><td>7.0</td><td>1.2372e14</td><td>42.0</td><td>3.7560e13</td><td>1.1011e12</td><td>0.0</td><td>0.0</td><td>-1.0</td><td>0.0</td><td>0.0</td><td>0.0</td><td>0.0</td><td>-99.0</td><td>0.0</td></tr><tr><td>&quot;25%&quot;</td><td>27593.0</td><td>1.2434e14</td><td>42.0</td><td>8.7972e13</td><td>1.4469e14</td><td>0.0</td><td>0.0</td><td>-1.0</td><td>0.0</td><td>0.0</td><td>0.0</td><td>0.0</td><td>-5.0</td><td>1.0</td></tr><tr><td>&quot;50%&quot;</td><td>47380.0</td><td>1.2491e14</td><td>98.0</td><td>1.1043e14</td><td>1.6728e14</td><td>1.92168035e8</td><td>1.9217e9</td><td>6.0</td><td>84.0</td><td>0.0</td><td>0.0</td><td>0.0</td><td>-3.0</td><td>2.0</td></tr><tr><td>&quot;75%&quot;</td><td>78562.0</td><td>1.2565e14</td><td>176.0</td><td>1.6728e14</td><td>1.6728e14</td><td>1.9217e9</td><td>1.9217e9</td><td>6.0</td><td>162.0</td><td>110.0</td><td>55038.306958</td><td>80.0</td><td>-2.0</td><td>4.0</td></tr><tr><td>&quot;max&quot;</td><td>125153.0</td><td>1.3051e14</td><td>1424.0</td><td>2.0707e14</td><td>2.8147e14</td><td>1.7222e11</td><td>2.5526e11</td><td>17.0</td><td>1410.0</td><td>1358.0</td><td>65534.0</td><td>65534.0</td><td>6565.0</td><td>5.0</td></tr></tbody></table></div>"
      ],
      "text/plain": [
       "shape: (9, 15)\n",
       "┌───────────┬───────────┬───────────┬───────────┬───┬───────────┬───────────┬───────────┬──────────┐\n",
       "│ describe  ┆ frame.num ┆ frame.tim ┆ frame.len ┆ … ┆ tcp.srcpo ┆ tcp.dstpo ┆ Value     ┆ normalit │\n",
       "│ ---       ┆ ber       ┆ e         ┆ ---       ┆   ┆ rt        ┆ rt        ┆ ---       ┆ y        │\n",
       "│ str       ┆ ---       ┆ ---       ┆ f64       ┆   ┆ ---       ┆ ---       ┆ f64       ┆ ---      │\n",
       "│           ┆ f64       ┆ f64       ┆           ┆   ┆ f64       ┆ f64       ┆           ┆ f64      │\n",
       "╞═══════════╪═══════════╪═══════════╪═══════════╪═══╪═══════════╪═══════════╪═══════════╪══════════╡\n",
       "│ count     ┆ 95485.0   ┆ 95485.0   ┆ 95485.0   ┆ … ┆ 95485.0   ┆ 95485.0   ┆ 95485.0   ┆ 95485.0  │\n",
       "│ null_coun ┆ 0.0       ┆ 0.0       ┆ 0.0       ┆ … ┆ 0.0       ┆ 0.0       ┆ 0.0       ┆ 0.0      │\n",
       "│ t         ┆           ┆           ┆           ┆   ┆           ┆           ┆           ┆          │\n",
       "│ mean      ┆ 52983.219 ┆ 1.2567e14 ┆ 120.50928 ┆ … ┆ 23702.140 ┆ 4470.0407 ┆ -3.802041 ┆ 2.497251 │\n",
       "│           ┆ 322       ┆           ┆ 4         ┆   ┆ 516       ┆ 92        ┆           ┆          │\n",
       "│ std       ┆ 32495.444 ┆ 2.0715e12 ┆ 87.974136 ┆ … ┆ 27889.780 ┆ 15334.798 ┆ 106.18030 ┆ 1.707535 │\n",
       "│           ┆ 889       ┆           ┆           ┆   ┆ 167       ┆ 789       ┆ 6         ┆          │\n",
       "│ min       ┆ 7.0       ┆ 1.2372e14 ┆ 42.0      ┆ … ┆ 0.0       ┆ 0.0       ┆ -99.0     ┆ 0.0      │\n",
       "│ 25%       ┆ 27593.0   ┆ 1.2434e14 ┆ 42.0      ┆ … ┆ 0.0       ┆ 0.0       ┆ -5.0      ┆ 1.0      │\n",
       "│ 50%       ┆ 47380.0   ┆ 1.2491e14 ┆ 98.0      ┆ … ┆ 0.0       ┆ 0.0       ┆ -3.0      ┆ 2.0      │\n",
       "│ 75%       ┆ 78562.0   ┆ 1.2565e14 ┆ 176.0     ┆ … ┆ 55038.306 ┆ 80.0      ┆ -2.0      ┆ 4.0      │\n",
       "│           ┆           ┆           ┆           ┆   ┆ 958       ┆           ┆           ┆          │\n",
       "│ max       ┆ 125153.0  ┆ 1.3051e14 ┆ 1424.0    ┆ … ┆ 65534.0   ┆ 65534.0   ┆ 6565.0    ┆ 5.0      │\n",
       "└───────────┴───────────┴───────────┴───────────┴───┴───────────┴───────────┴───────────┴──────────┘"
      ]
     },
     "execution_count": 51,
     "metadata": {},
     "output_type": "execute_result"
    }
   ],
   "source": [
    "df.describe()"
   ]
  },
  {
   "cell_type": "code",
   "execution_count": 52,
   "metadata": {},
   "outputs": [
    {
     "data": {
      "text/html": [
       "<div><style>\n",
       ".dataframe > thead > tr > th,\n",
       ".dataframe > tbody > tr > td {\n",
       "  text-align: right;\n",
       "  white-space: pre-wrap;\n",
       "}\n",
       "</style>\n",
       "<small>shape: (4_637, 2)</small><table border=\"1\" class=\"dataframe\"><thead><tr><th>tcp.dstport</th><th>counts</th></tr><tr><td>f64</td><td>u32</td></tr></thead><tbody><tr><td>57141.0</td><td>1</td></tr><tr><td>51419.0</td><td>1</td></tr><tr><td>62865.0</td><td>1</td></tr><tr><td>64200.0</td><td>1</td></tr><tr><td>57155.0</td><td>1</td></tr><tr><td>53251.0</td><td>1</td></tr><tr><td>53020.0</td><td>1</td></tr><tr><td>52466.0</td><td>1</td></tr><tr><td>64278.0</td><td>1</td></tr><tr><td>49474.0</td><td>1</td></tr><tr><td>49405.0</td><td>1</td></tr><tr><td>53863.0</td><td>1</td></tr><tr><td>&hellip;</td><td>&hellip;</td></tr><tr><td>56421.0</td><td>6</td></tr><tr><td>50214.0</td><td>6</td></tr><tr><td>57015.0</td><td>6</td></tr><tr><td>55925.0</td><td>6</td></tr><tr><td>59141.0</td><td>7</td></tr><tr><td>56054.0</td><td>7</td></tr><tr><td>51291.0</td><td>7</td></tr><tr><td>55634.0</td><td>8</td></tr><tr><td>44438.0</td><td>11</td></tr><tr><td>443.0</td><td>81</td></tr><tr><td>80.0</td><td>40105</td></tr><tr><td>0.0</td><td>47880</td></tr></tbody></table></div>"
      ],
      "text/plain": [
       "shape: (4_637, 2)\n",
       "┌─────────────┬────────┐\n",
       "│ tcp.dstport ┆ counts │\n",
       "│ ---         ┆ ---    │\n",
       "│ f64         ┆ u32    │\n",
       "╞═════════════╪════════╡\n",
       "│ 57141.0     ┆ 1      │\n",
       "│ 51419.0     ┆ 1      │\n",
       "│ 62865.0     ┆ 1      │\n",
       "│ 64200.0     ┆ 1      │\n",
       "│ …           ┆ …      │\n",
       "│ 44438.0     ┆ 11     │\n",
       "│ 443.0       ┆ 81     │\n",
       "│ 80.0        ┆ 40105  │\n",
       "│ 0.0         ┆ 47880  │\n",
       "└─────────────┴────────┘"
      ]
     },
     "execution_count": 52,
     "metadata": {},
     "output_type": "execute_result"
    }
   ],
   "source": [
    "df_ports = df[['tcp.dstport']]\n",
    "df_ports.head(10)\n",
    "\n",
    "df['tcp.dstport'].value_counts().sort('counts')"
   ]
  },
  {
   "cell_type": "code",
   "execution_count": 53,
   "metadata": {},
   "outputs": [
    {
     "data": {
      "text/html": [
       "<div><style>\n",
       ".dataframe > thead > tr > th,\n",
       ".dataframe > tbody > tr > td {\n",
       "  text-align: right;\n",
       "  white-space: pre-wrap;\n",
       "}\n",
       "</style>\n",
       "<small>shape: (35_865, 2)</small><table border=\"1\" class=\"dataframe\"><thead><tr><th>tcp.srcport</th><th>counts</th></tr><tr><td>f64</td><td>u32</td></tr></thead><tbody><tr><td>53525.576365</td><td>1</td></tr><tr><td>56640.926848</td><td>1</td></tr><tr><td>53418.382172</td><td>1</td></tr><tr><td>63256.158294</td><td>1</td></tr><tr><td>54316.565514</td><td>1</td></tr><tr><td>56447.596733</td><td>1</td></tr><tr><td>53642.239418</td><td>1</td></tr><tr><td>57983.531942</td><td>1</td></tr><tr><td>56835.526624</td><td>1</td></tr><tr><td>53503.308624</td><td>1</td></tr><tr><td>53653.969094</td><td>1</td></tr><tr><td>61002.635216</td><td>1</td></tr><tr><td>&hellip;</td><td>&hellip;</td></tr><tr><td>60490.0</td><td>7</td></tr><tr><td>61723.0</td><td>7</td></tr><tr><td>56421.0</td><td>7</td></tr><tr><td>55844.0</td><td>7</td></tr><tr><td>63641.0</td><td>7</td></tr><tr><td>53178.0</td><td>7</td></tr><tr><td>50803.0</td><td>8</td></tr><tr><td>59611.0</td><td>9</td></tr><tr><td>44438.0</td><td>24</td></tr><tr><td>443.0</td><td>65</td></tr><tr><td>80.0</td><td>7355</td></tr><tr><td>0.0</td><td>47879</td></tr></tbody></table></div>"
      ],
      "text/plain": [
       "shape: (35_865, 2)\n",
       "┌──────────────┬────────┐\n",
       "│ tcp.srcport  ┆ counts │\n",
       "│ ---          ┆ ---    │\n",
       "│ f64          ┆ u32    │\n",
       "╞══════════════╪════════╡\n",
       "│ 53525.576365 ┆ 1      │\n",
       "│ 56640.926848 ┆ 1      │\n",
       "│ 53418.382172 ┆ 1      │\n",
       "│ 63256.158294 ┆ 1      │\n",
       "│ …            ┆ …      │\n",
       "│ 44438.0      ┆ 24     │\n",
       "│ 443.0        ┆ 65     │\n",
       "│ 80.0         ┆ 7355   │\n",
       "│ 0.0          ┆ 47879  │\n",
       "└──────────────┴────────┘"
      ]
     },
     "execution_count": 53,
     "metadata": {},
     "output_type": "execute_result"
    }
   ],
   "source": [
    "df_ports = df[['tcp.srcport']]\n",
    "df_ports.head(10)\n",
    "\n",
    "df['tcp.srcport'].value_counts().sort('counts')\n"
   ]
  },
  {
   "cell_type": "code",
   "execution_count": 54,
   "metadata": {},
   "outputs": [],
   "source": [
    "#sns.pairplot(df.to_pandas())\n",
    "#plt.show()"
   ]
  },
  {
   "cell_type": "code",
   "execution_count": 55,
   "metadata": {},
   "outputs": [],
   "source": [
    "#sns.pairplot(df.to_pandas(), hue='normality')\n",
    "#plt.show()"
   ]
  },
  {
   "cell_type": "code",
   "execution_count": 56,
   "metadata": {},
   "outputs": [],
   "source": [
    "ports_map = {\n",
    "    80:1,\n",
    "    443:2,\n",
    "    \n",
    "    115:4,\n",
    "    20:5,\n",
    "    21:6,\n",
    "\n",
    "    22:8,\n",
    "    23:9,\n",
    "\n",
    "    7:11,\n",
    "    53:12,\n",
    "    67:13,\n",
    "    68:14,\n",
    "}"
   ]
  },
  {
   "cell_type": "code",
   "execution_count": 57,
   "metadata": {},
   "outputs": [
    {
     "data": {
      "text/plain": [
       "array([[ 9.80000000e+01,  1.67275820e+14,  1.10425385e+14, ...,\n",
       "         0.00000000e+00,  0.00000000e+00, -2.00000000e+00],\n",
       "       [ 2.69000000e+02,  8.79719598e+13,  1.67275820e+14, ...,\n",
       "         5.46657295e+04,  8.00000000e+01,  7.28751108e+01],\n",
       "       [ 1.93000000e+02,  1.89924305e+14,  1.67275820e+14, ...,\n",
       "         5.64907565e+04,  8.00000000e+01, -3.00000000e+00],\n",
       "       ...,\n",
       "       [ 4.20000000e+01,  1.67275820e+14,  2.81474977e+14, ...,\n",
       "         0.00000000e+00,  0.00000000e+00, -4.00000000e+00],\n",
       "       [ 9.80000000e+01,  1.67275820e+14,  1.10425385e+14, ...,\n",
       "         0.00000000e+00,  0.00000000e+00, -2.00000000e+00],\n",
       "       [ 1.69000000e+02,  1.10425385e+14,  1.67275820e+14, ...,\n",
       "         5.36422083e+04,  8.00000000e+01, -3.00000000e+00]])"
      ]
     },
     "execution_count": 57,
     "metadata": {},
     "output_type": "execute_result"
    }
   ],
   "source": [
    "df_clean = df.drop(['frame.number', 'frame.time', 'normality'])\n",
    "\n",
    "\n",
    "df_clean.with_columns(\n",
    "    pl.col('tcp.srcport')\n",
    "    .map_dict(ports_map, default=100)\n",
    "    .alias('tcp.srcport'))\n",
    "\n",
    "df_clean.with_columns(\n",
    "    pl.col('tcp.dstport')\n",
    "    .map_dict(ports_map, default=100)\n",
    "    .alias('tcp.dstport'))\n",
    "\n",
    "X = df_clean.drop_nulls().to_numpy()\n",
    "y = df[['normality']].drop_nulls().to_numpy()\n",
    "X"
   ]
  },
  {
   "cell_type": "code",
   "execution_count": 58,
   "metadata": {},
   "outputs": [
    {
     "data": {
      "text/plain": [
       "array([[-2.55863861e-01,  8.46999327e-01, -9.95383337e-01, ...,\n",
       "        -8.49854839e-01, -2.91498067e-01,  1.69716087e-02],\n",
       "       [ 1.68789943e+00, -9.21183657e-01,  1.26873163e-01, ...,\n",
       "         1.11021854e+00, -2.86281147e-01,  7.22144778e-01],\n",
       "       [ 8.24004632e-01,  1.35197684e+00,  1.26873163e-01, ...,\n",
       "         1.17565601e+00, -2.86281147e-01,  7.55361707e-03],\n",
       "       ...,\n",
       "       [-8.92417920e-01,  8.46999327e-01,  2.38122260e+00, ...,\n",
       "        -8.49854839e-01, -2.91498067e-01, -1.86437459e-03],\n",
       "       [-2.55863861e-01,  8.46999327e-01, -9.95383337e-01, ...,\n",
       "        -8.49854839e-01, -2.91498067e-01,  1.69716087e-02],\n",
       "       [ 5.51195750e-01, -4.20555254e-01,  1.26873163e-01, ...,\n",
       "         1.07351956e+00, -2.86281147e-01,  7.55361707e-03]])"
      ]
     },
     "execution_count": 58,
     "metadata": {},
     "output_type": "execute_result"
    }
   ],
   "source": [
    "scaler = StandardScaler()\n",
    "X_scaled = scaler.fit_transform(X)\n",
    "\n",
    "X_scaled"
   ]
  },
  {
   "cell_type": "code",
   "execution_count": 66,
   "metadata": {},
   "outputs": [
    {
     "data": {
      "image/png": "[encoded data removed]",
      "text/plain": [
       "<Figure size 2000x500 with 1 Axes>"
      ]
     },
     "metadata": {},
     "output_type": "display_data"
    },
    {
     "data": {
      "text/plain": [
       "<Axes: title={'center': 'Distortion Score Elbow for KMeans Clustering'}, xlabel='k', ylabel='distortion score'>"
      ]
     },
     "execution_count": 66,
     "metadata": {},
     "output_type": "execute_result"
    }
   ],
   "source": [
    "# Instantiate the clustering model and visualizer\n",
    "model = KMeans(n_init='auto')\n",
    "visualizer = KElbowVisualizer(model, k=(4, 20), timings=False)\n",
    "\n",
    "visualizer.fit(X_scaled)  # Fit the data to the visualizer\n",
    "visualizer.show()  # Finalize and render the figure"
   ]
  },
  {
   "cell_type": "code",
   "execution_count": 67,
   "metadata": {},
   "outputs": [],
   "source": [
    "k=9\n",
    "kmeans = KMeans(n_clusters=k, n_init='auto')\n",
    "kmeans.fit(X)\n",
    "distances = kmeans.transform(X)\n",
    "cluster_indices = kmeans.labels_"
   ]
  },
  {
   "cell_type": "code",
   "execution_count": 68,
   "metadata": {},
   "outputs": [
    {
     "name": "stdout",
     "output_type": "stream",
     "text": [
      "thresholds: [6.07637343e+10 6.30293775e+05 4.42930715e+11 1.08338545e+11\n",
      " 5.34501885e+06 4.20408033e+07 5.53555050e+11 4.49950858e+11\n",
      " 7.79013527e+07]\n",
      "[ True  True  True ...  True  True  True]\n"
     ]
    }
   ],
   "source": [
    "mask = (cluster_indices[:, None] == np.arange(distances.shape[1]))\n",
    "distances[~mask] = 0\n",
    "\n",
    "dictionary = {i: column for i, column in enumerate(zip(*distances))}\n",
    "\n",
    "mean_distances = [sum(values) / len(values) for key, values in dictionary.items()]\n",
    "thresholds = np.array(mean_distances)  # thresholds als NumPy-Array anpassen\n",
    "\n",
    "print(f'thresholds: {thresholds}')\n",
    "\n",
    "outliers = np.any(np.array(distances) > thresholds, axis=1)  \n",
    "print(f'{outliers}')"
   ]
  },
  {
   "cell_type": "code",
   "execution_count": 69,
   "metadata": {},
   "outputs": [
    {
     "name": "stdout",
     "output_type": "stream",
     "text": [
      "Accuracy:0.16452660242982822\n"
     ]
    }
   ],
   "source": [
    "filtered_outlier = y[outliers]\n",
    "\n",
    "filtered_labels = filtered_outlier[filtered_outlier != 0]\n",
    "\n",
    "count = (len(filtered_outlier) - len(filtered_labels)) / len(filtered_outlier)\n",
    "\n",
    "print(f'Accuracy:{count}')"
   ]
  }
 ],
 "metadata": {
  "kernelspec": {
   "display_name": "venv",
   "language": "python",
   "name": "python3"
  },
  "language_info": {
   "codemirror_mode": {
    "name": "ipython",
    "version": 3
   },
   "file_extension": ".py",
   "mimetype": "text/x-python",
   "name": "python",
   "nbconvert_exporter": "python",
   "pygments_lexer": "ipython3",
   "version": "3.9.18"
  }
 },
 "nbformat": 4,
 "nbformat_minor": 2
}
