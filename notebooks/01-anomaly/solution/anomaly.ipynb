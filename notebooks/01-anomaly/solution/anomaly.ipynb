{
 "cells": [
  {
   "cell_type": "markdown",
   "metadata": {},
   "source": [
    "# Anomly detection for IoT \n",
    "\n",
    "Preprocessed dataset for network based intrusion detection system in Iot Devices. \n",
    "Ultrasonic Sensor with Arduino and NodeMCU used to monitor the network and collect the network logs. \n",
    "NodeMCU with ESP8266 wifi module was used to send data to the server via wifi. \n",
    "\n",
    "For more detail, check [here](https://www.kaggle.com/datasets/speedwall10/iot-device-network-logs).\n"
   ]
  },
  {
   "cell_type": "code",
   "execution_count": 35,
   "metadata": {},
   "outputs": [],
   "source": [
    "%matplotlib inline\n",
    "import numpy as np\n",
    "import polars as pl\n",
    "import seaborn as sns\n",
    "import matplotlib.pyplot as plt\n",
    "plt.rcParams['figure.figsize'] = [20, 5]\n",
    "plt.rcParams[\"figure.autolayout\"] = True\n",
    "plt.rcParams.update({'font.size': 22})\n",
    "\n",
    "from sklearn.preprocessing import StandardScaler, LabelEncoder\n",
    "from sklearn.decomposition import PCA\n",
    "\n",
    "from yellowbrick.cluster import KElbowVisualizer\n",
    "\n",
    "from sklearn.cluster import KMeans\n"
   ]
  },
  {
   "cell_type": "code",
   "execution_count": 36,
   "metadata": {},
   "outputs": [
    {
     "data": {
      "text/html": [
       "<div><style>\n",
       ".dataframe > thead > tr > th,\n",
       ".dataframe > tbody > tr > td {\n",
       "  text-align: right;\n",
       "  white-space: pre-wrap;\n",
       "}\n",
       "</style>\n",
       "<small>shape: (5, 14)</small><table border=\"1\" class=\"dataframe\"><thead><tr><th>frame.number</th><th>frame.time</th><th>frame.len</th><th>eth.src</th><th>eth.dst</th><th>ip.src</th><th>ip.dst</th><th>ip.proto</th><th>ip.len</th><th>tcp.len</th><th>tcp.srcport</th><th>tcp.dstport</th><th>Value</th><th>normality</th></tr><tr><td>i64</td><td>i64</td><td>i64</td><td>i64</td><td>i64</td><td>i64</td><td>i64</td><td>f64</td><td>f64</td><td>f64</td><td>f64</td><td>f64</td><td>f64</td><td>i64</td></tr></thead><tbody><tr><td>65706</td><td>125419000787443</td><td>169</td><td>110425385261001</td><td>167275820076079</td><td>1921680183</td><td>1921680121</td><td>6.0</td><td>155.0</td><td>103.0</td><td>53574.337444</td><td>80.0</td><td>-3.0</td><td>3</td></tr><tr><td>96170</td><td>130106893636440</td><td>271</td><td>87971959760497</td><td>167275820076079</td><td>192168035</td><td>1921680121</td><td>6.0</td><td>257.0</td><td>217.0</td><td>62102.0</td><td>80.0</td><td>2219.0</td><td>0</td></tr><tr><td>117112</td><td>130414331858945</td><td>98</td><td>167275820076079</td><td>110425385261001</td><td>1921680121</td><td>1921680183</td><td>1.0</td><td>84.0</td><td>0.0</td><td>0.0</td><td>0.0</td><td>-2.0</td><td>2</td></tr><tr><td>61329</td><td>125745649898601</td><td>42</td><td>167275820076079</td><td>87971959760497</td><td>0</td><td>0</td><td>-1.0</td><td>0.0</td><td>0.0</td><td>0.0</td><td>0.0</td><td>-5.0</td><td>5</td></tr><tr><td>82250</td><td>125719560955593</td><td>54</td><td>87971959760497</td><td>167275820076079</td><td>192168035</td><td>1921680121</td><td>6.0</td><td>40.0</td><td>0.0</td><td>62569.0</td><td>80.0</td><td>-99.0</td><td>0</td></tr></tbody></table></div>"
      ],
      "text/plain": [
       "shape: (5, 14)\n",
       "┌────────────┬────────────┬───────────┬───────────┬───┬───────────┬───────────┬────────┬───────────┐\n",
       "│ frame.numb ┆ frame.time ┆ frame.len ┆ eth.src   ┆ … ┆ tcp.srcpo ┆ tcp.dstpo ┆ Value  ┆ normality │\n",
       "│ er         ┆ ---        ┆ ---       ┆ ---       ┆   ┆ rt        ┆ rt        ┆ ---    ┆ ---       │\n",
       "│ ---        ┆ i64        ┆ i64       ┆ i64       ┆   ┆ ---       ┆ ---       ┆ f64    ┆ i64       │\n",
       "│ i64        ┆            ┆           ┆           ┆   ┆ f64       ┆ f64       ┆        ┆           │\n",
       "╞════════════╪════════════╪═══════════╪═══════════╪═══╪═══════════╪═══════════╪════════╪═══════════╡\n",
       "│ 65706      ┆ 1254190007 ┆ 169       ┆ 110425385 ┆ … ┆ 53574.337 ┆ 80.0      ┆ -3.0   ┆ 3         │\n",
       "│            ┆ 87443      ┆           ┆ 261001    ┆   ┆ 444       ┆           ┆        ┆           │\n",
       "│ 96170      ┆ 1301068936 ┆ 271       ┆ 879719597 ┆ … ┆ 62102.0   ┆ 80.0      ┆ 2219.0 ┆ 0         │\n",
       "│            ┆ 36440      ┆           ┆ 60497     ┆   ┆           ┆           ┆        ┆           │\n",
       "│ 117112     ┆ 1304143318 ┆ 98        ┆ 167275820 ┆ … ┆ 0.0       ┆ 0.0       ┆ -2.0   ┆ 2         │\n",
       "│            ┆ 58945      ┆           ┆ 076079    ┆   ┆           ┆           ┆        ┆           │\n",
       "│ 61329      ┆ 1257456498 ┆ 42        ┆ 167275820 ┆ … ┆ 0.0       ┆ 0.0       ┆ -5.0   ┆ 5         │\n",
       "│            ┆ 98601      ┆           ┆ 076079    ┆   ┆           ┆           ┆        ┆           │\n",
       "│ 82250      ┆ 1257195609 ┆ 54        ┆ 879719597 ┆ … ┆ 62569.0   ┆ 80.0      ┆ -99.0  ┆ 0         │\n",
       "│            ┆ 55593      ┆           ┆ 60497     ┆   ┆           ┆           ┆        ┆           │\n",
       "└────────────┴────────────┴───────────┴───────────┴───┴───────────┴───────────┴────────┴───────────┘"
      ]
     },
     "execution_count": 36,
     "metadata": {},
     "output_type": "execute_result"
    }
   ],
   "source": [
    "df = pl.read_csv('https://cloud.hrun.duckdns.org/s/9YdoqYTGR4poZxe/download/IoT-DNL.csv')\n",
    "df = df.sample(int(df.shape[0]*0.2))\n",
    "df.head()"
   ]
  },
  {
   "cell_type": "code",
   "execution_count": 37,
   "metadata": {},
   "outputs": [
    {
     "data": {
      "text/html": [
       "<div><style>\n",
       ".dataframe > thead > tr > th,\n",
       ".dataframe > tbody > tr > td {\n",
       "  text-align: right;\n",
       "  white-space: pre-wrap;\n",
       "}\n",
       "</style>\n",
       "<small>shape: (9, 15)</small><table border=\"1\" class=\"dataframe\"><thead><tr><th>describe</th><th>frame.number</th><th>frame.time</th><th>frame.len</th><th>eth.src</th><th>eth.dst</th><th>ip.src</th><th>ip.dst</th><th>ip.proto</th><th>ip.len</th><th>tcp.len</th><th>tcp.srcport</th><th>tcp.dstport</th><th>Value</th><th>normality</th></tr><tr><td>str</td><td>f64</td><td>f64</td><td>f64</td><td>f64</td><td>f64</td><td>f64</td><td>f64</td><td>f64</td><td>f64</td><td>f64</td><td>f64</td><td>f64</td><td>f64</td><td>f64</td></tr></thead><tbody><tr><td>&quot;count&quot;</td><td>95485.0</td><td>95485.0</td><td>95485.0</td><td>95485.0</td><td>95485.0</td><td>95485.0</td><td>95485.0</td><td>95485.0</td><td>95485.0</td><td>95485.0</td><td>95485.0</td><td>95485.0</td><td>95485.0</td><td>95485.0</td></tr><tr><td>&quot;null_count&quot;</td><td>0.0</td><td>0.0</td><td>0.0</td><td>0.0</td><td>0.0</td><td>0.0</td><td>0.0</td><td>0.0</td><td>0.0</td><td>0.0</td><td>0.0</td><td>0.0</td><td>0.0</td><td>0.0</td></tr><tr><td>&quot;mean&quot;</td><td>52781.543729</td><td>1.2566e14</td><td>120.65293</td><td>1.2954e14</td><td>1.6050e14</td><td>8.6961e8</td><td>1.2003e9</td><td>2.867435</td><td>97.258314</td><td>60.78355</td><td>23683.366225</td><td>4581.810735</td><td>-4.32651</td><td>2.492831</td></tr><tr><td>&quot;std&quot;</td><td>32381.637395</td><td>2.0605e12</td><td>87.784513</td><td>4.4737e13</td><td>5.0849e13</td><td>2.1281e9</td><td>3.6089e9</td><td>3.294688</td><td>96.699045</td><td>87.190443</td><td>27893.609826</td><td>15514.428001</td><td>103.058478</td><td>1.707449</td></tr><tr><td>&quot;min&quot;</td><td>7.0</td><td>1.2372e14</td><td>42.0</td><td>3.7560e13</td><td>1.1011e12</td><td>0.0</td><td>0.0</td><td>-1.0</td><td>0.0</td><td>0.0</td><td>0.0</td><td>0.0</td><td>-99.0</td><td>0.0</td></tr><tr><td>&quot;25%&quot;</td><td>27624.0</td><td>1.2434e14</td><td>42.0</td><td>8.7972e13</td><td>1.3245e14</td><td>0.0</td><td>0.0</td><td>-1.0</td><td>0.0</td><td>0.0</td><td>0.0</td><td>0.0</td><td>-5.0</td><td>1.0</td></tr><tr><td>&quot;50%&quot;</td><td>46887.0</td><td>1.2490e14</td><td>98.0</td><td>1.1043e14</td><td>1.6728e14</td><td>1.92168035e8</td><td>1.9217e9</td><td>6.0</td><td>84.0</td><td>0.0</td><td>80.0</td><td>80.0</td><td>-3.0</td><td>2.0</td></tr><tr><td>&quot;75%&quot;</td><td>77843.0</td><td>1.2565e14</td><td>176.0</td><td>1.6728e14</td><td>1.6728e14</td><td>1.9217e9</td><td>1.9217e9</td><td>6.0</td><td>162.0</td><td>110.0</td><td>54991.059181</td><td>80.0</td><td>-2.0</td><td>4.0</td></tr><tr><td>&quot;max&quot;</td><td>125158.0</td><td>1.3051e14</td><td>1424.0</td><td>2.0707e14</td><td>2.8147e14</td><td>1.7222e11</td><td>2.5526e11</td><td>17.0</td><td>1410.0</td><td>1358.0</td><td>65534.0</td><td>65534.0</td><td>7474.0</td><td>5.0</td></tr></tbody></table></div>"
      ],
      "text/plain": [
       "shape: (9, 15)\n",
       "┌───────────┬───────────┬───────────┬───────────┬───┬───────────┬───────────┬───────────┬──────────┐\n",
       "│ describe  ┆ frame.num ┆ frame.tim ┆ frame.len ┆ … ┆ tcp.srcpo ┆ tcp.dstpo ┆ Value     ┆ normalit │\n",
       "│ ---       ┆ ber       ┆ e         ┆ ---       ┆   ┆ rt        ┆ rt        ┆ ---       ┆ y        │\n",
       "│ str       ┆ ---       ┆ ---       ┆ f64       ┆   ┆ ---       ┆ ---       ┆ f64       ┆ ---      │\n",
       "│           ┆ f64       ┆ f64       ┆           ┆   ┆ f64       ┆ f64       ┆           ┆ f64      │\n",
       "╞═══════════╪═══════════╪═══════════╪═══════════╪═══╪═══════════╪═══════════╪═══════════╪══════════╡\n",
       "│ count     ┆ 95485.0   ┆ 95485.0   ┆ 95485.0   ┆ … ┆ 95485.0   ┆ 95485.0   ┆ 95485.0   ┆ 95485.0  │\n",
       "│ null_coun ┆ 0.0       ┆ 0.0       ┆ 0.0       ┆ … ┆ 0.0       ┆ 0.0       ┆ 0.0       ┆ 0.0      │\n",
       "│ t         ┆           ┆           ┆           ┆   ┆           ┆           ┆           ┆          │\n",
       "│ mean      ┆ 52781.543 ┆ 1.2566e14 ┆ 120.65293 ┆ … ┆ 23683.366 ┆ 4581.8107 ┆ -4.32651  ┆ 2.492831 │\n",
       "│           ┆ 729       ┆           ┆           ┆   ┆ 225       ┆ 35        ┆           ┆          │\n",
       "│ std       ┆ 32381.637 ┆ 2.0605e12 ┆ 87.784513 ┆ … ┆ 27893.609 ┆ 15514.428 ┆ 103.05847 ┆ 1.707449 │\n",
       "│           ┆ 395       ┆           ┆           ┆   ┆ 826       ┆ 001       ┆ 8         ┆          │\n",
       "│ min       ┆ 7.0       ┆ 1.2372e14 ┆ 42.0      ┆ … ┆ 0.0       ┆ 0.0       ┆ -99.0     ┆ 0.0      │\n",
       "│ 25%       ┆ 27624.0   ┆ 1.2434e14 ┆ 42.0      ┆ … ┆ 0.0       ┆ 0.0       ┆ -5.0      ┆ 1.0      │\n",
       "│ 50%       ┆ 46887.0   ┆ 1.2490e14 ┆ 98.0      ┆ … ┆ 80.0      ┆ 80.0      ┆ -3.0      ┆ 2.0      │\n",
       "│ 75%       ┆ 77843.0   ┆ 1.2565e14 ┆ 176.0     ┆ … ┆ 54991.059 ┆ 80.0      ┆ -2.0      ┆ 4.0      │\n",
       "│           ┆           ┆           ┆           ┆   ┆ 181       ┆           ┆           ┆          │\n",
       "│ max       ┆ 125158.0  ┆ 1.3051e14 ┆ 1424.0    ┆ … ┆ 65534.0   ┆ 65534.0   ┆ 7474.0    ┆ 5.0      │\n",
       "└───────────┴───────────┴───────────┴───────────┴───┴───────────┴───────────┴───────────┴──────────┘"
      ]
     },
     "execution_count": 37,
     "metadata": {},
     "output_type": "execute_result"
    }
   ],
   "source": [
    "df.describe()"
   ]
  },
  {
   "cell_type": "code",
   "execution_count": 38,
   "metadata": {},
   "outputs": [
    {
     "data": {
      "text/html": [
       "<div><style>\n",
       ".dataframe > thead > tr > th,\n",
       ".dataframe > tbody > tr > td {\n",
       "  text-align: right;\n",
       "  white-space: pre-wrap;\n",
       "}\n",
       "</style>\n",
       "<small>shape: (4_705, 2)</small><table border=\"1\" class=\"dataframe\"><thead><tr><th>tcp.dstport</th><th>counts</th></tr><tr><td>f64</td><td>u32</td></tr></thead><tbody><tr><td>50224.0</td><td>1</td></tr><tr><td>64583.0</td><td>1</td></tr><tr><td>50174.0</td><td>1</td></tr><tr><td>55455.0</td><td>1</td></tr><tr><td>61047.0</td><td>1</td></tr><tr><td>64602.0</td><td>1</td></tr><tr><td>55519.0</td><td>1</td></tr><tr><td>55616.0</td><td>1</td></tr><tr><td>51584.0</td><td>1</td></tr><tr><td>65511.0</td><td>1</td></tr><tr><td>59406.0</td><td>1</td></tr><tr><td>57297.0</td><td>1</td></tr><tr><td>&hellip;</td><td>&hellip;</td></tr><tr><td>50974.0</td><td>6</td></tr><tr><td>62269.0</td><td>6</td></tr><tr><td>57848.0</td><td>6</td></tr><tr><td>60377.0</td><td>6</td></tr><tr><td>48608.0</td><td>7</td></tr><tr><td>60316.0</td><td>7</td></tr><tr><td>56054.0</td><td>8</td></tr><tr><td>44438.0</td><td>8</td></tr><tr><td>55209.0</td><td>8</td></tr><tr><td>443.0</td><td>91</td></tr><tr><td>80.0</td><td>40056</td></tr><tr><td>0.0</td><td>47737</td></tr></tbody></table></div>"
      ],
      "text/plain": [
       "shape: (4_705, 2)\n",
       "┌─────────────┬────────┐\n",
       "│ tcp.dstport ┆ counts │\n",
       "│ ---         ┆ ---    │\n",
       "│ f64         ┆ u32    │\n",
       "╞═════════════╪════════╡\n",
       "│ 50224.0     ┆ 1      │\n",
       "│ 64583.0     ┆ 1      │\n",
       "│ 50174.0     ┆ 1      │\n",
       "│ 55455.0     ┆ 1      │\n",
       "│ …           ┆ …      │\n",
       "│ 55209.0     ┆ 8      │\n",
       "│ 443.0       ┆ 91     │\n",
       "│ 80.0        ┆ 40056  │\n",
       "│ 0.0         ┆ 47737  │\n",
       "└─────────────┴────────┘"
      ]
     },
     "execution_count": 38,
     "metadata": {},
     "output_type": "execute_result"
    }
   ],
   "source": [
    "df_ports = df[['tcp.dstport']]\n",
    "df_ports.head(10)\n",
    "\n",
    "df['tcp.dstport'].value_counts().sort('counts')"
   ]
  },
  {
   "cell_type": "code",
   "execution_count": 39,
   "metadata": {},
   "outputs": [
    {
     "data": {
      "text/html": [
       "<div><style>\n",
       ".dataframe > thead > tr > th,\n",
       ".dataframe > tbody > tr > td {\n",
       "  text-align: right;\n",
       "  white-space: pre-wrap;\n",
       "}\n",
       "</style>\n",
       "<small>shape: (35_878, 2)</small><table border=\"1\" class=\"dataframe\"><thead><tr><th>tcp.srcport</th><th>counts</th></tr><tr><td>f64</td><td>u32</td></tr></thead><tbody><tr><td>56525.187484</td><td>1</td></tr><tr><td>53420.217671</td><td>1</td></tr><tr><td>62207.035751</td><td>1</td></tr><tr><td>53475.834643</td><td>1</td></tr><tr><td>56369.939332</td><td>1</td></tr><tr><td>56508.463605</td><td>1</td></tr><tr><td>56493.167076</td><td>1</td></tr><tr><td>54012.0</td><td>1</td></tr><tr><td>53590.656757</td><td>1</td></tr><tr><td>55573.377392</td><td>1</td></tr><tr><td>53562.546681</td><td>1</td></tr><tr><td>62199.504853</td><td>1</td></tr><tr><td>&hellip;</td><td>&hellip;</td></tr><tr><td>56054.0</td><td>8</td></tr><tr><td>52954.0</td><td>8</td></tr><tr><td>57030.0</td><td>8</td></tr><tr><td>51291.0</td><td>9</td></tr><tr><td>46218.0</td><td>9</td></tr><tr><td>62117.0</td><td>10</td></tr><tr><td>54815.0</td><td>10</td></tr><tr><td>51712.0</td><td>10</td></tr><tr><td>44438.0</td><td>19</td></tr><tr><td>443.0</td><td>49</td></tr><tr><td>80.0</td><td>7553</td></tr><tr><td>0.0</td><td>47737</td></tr></tbody></table></div>"
      ],
      "text/plain": [
       "shape: (35_878, 2)\n",
       "┌──────────────┬────────┐\n",
       "│ tcp.srcport  ┆ counts │\n",
       "│ ---          ┆ ---    │\n",
       "│ f64          ┆ u32    │\n",
       "╞══════════════╪════════╡\n",
       "│ 56525.187484 ┆ 1      │\n",
       "│ 53420.217671 ┆ 1      │\n",
       "│ 62207.035751 ┆ 1      │\n",
       "│ 53475.834643 ┆ 1      │\n",
       "│ …            ┆ …      │\n",
       "│ 44438.0      ┆ 19     │\n",
       "│ 443.0        ┆ 49     │\n",
       "│ 80.0         ┆ 7553   │\n",
       "│ 0.0          ┆ 47737  │\n",
       "└──────────────┴────────┘"
      ]
     },
     "execution_count": 39,
     "metadata": {},
     "output_type": "execute_result"
    }
   ],
   "source": [
    "df_ports = df[['tcp.srcport']]\n",
    "df_ports.head(10)\n",
    "\n",
    "df['tcp.srcport'].value_counts().sort('counts')\n"
   ]
  },
  {
   "cell_type": "code",
   "execution_count": 40,
   "metadata": {},
   "outputs": [],
   "source": [
    "#sns.pairplot(df.to_pandas())\n",
    "#plt.show()"
   ]
  },
  {
   "cell_type": "code",
   "execution_count": 41,
   "metadata": {},
   "outputs": [],
   "source": [
    "#sns.pairplot(df.to_pandas(), hue='normality')\n",
    "#plt.show()"
   ]
  },
  {
   "cell_type": "code",
   "execution_count": 42,
   "metadata": {},
   "outputs": [],
   "source": [
    "ports_map = {\n",
    "    80:1,\n",
    "    443:2,\n",
    "    \n",
    "    115:4,\n",
    "    20:5,\n",
    "    21:6,\n",
    "\n",
    "    22:8,\n",
    "    23:9,\n",
    "\n",
    "    7:11,\n",
    "    53:12,\n",
    "    67:13,\n",
    "    68:14,\n",
    "}\n",
    "\n",
    "def map_tcp_ports(port):\n",
    "    return ports_map.get(int(port), 100)"
   ]
  },
  {
   "cell_type": "code",
   "execution_count": 47,
   "metadata": {},
   "outputs": [
    {
     "data": {
      "text/html": [
       "<div><style>\n",
       ".dataframe > thead > tr > th,\n",
       ".dataframe > tbody > tr > td {\n",
       "  text-align: right;\n",
       "  white-space: pre-wrap;\n",
       "}\n",
       "</style>\n",
       "<small>shape: (95_485, 11)</small><table border=\"1\" class=\"dataframe\"><thead><tr><th>frame.len</th><th>eth.src</th><th>eth.dst</th><th>ip.src</th><th>ip.dst</th><th>ip.proto</th><th>ip.len</th><th>tcp.len</th><th>tcp.srcport</th><th>tcp.dstport</th><th>Value</th></tr><tr><td>i64</td><td>i64</td><td>i64</td><td>i64</td><td>i64</td><td>f64</td><td>f64</td><td>f64</td><td>i64</td><td>f64</td><td>f64</td></tr></thead><tbody><tr><td>169</td><td>110425385261001</td><td>167275820076079</td><td>1921680183</td><td>1921680121</td><td>6.0</td><td>155.0</td><td>103.0</td><td>100</td><td>80.0</td><td>-3.0</td></tr><tr><td>271</td><td>87971959760497</td><td>167275820076079</td><td>192168035</td><td>1921680121</td><td>6.0</td><td>257.0</td><td>217.0</td><td>100</td><td>80.0</td><td>2219.0</td></tr><tr><td>98</td><td>167275820076079</td><td>110425385261001</td><td>1921680121</td><td>1921680183</td><td>1.0</td><td>84.0</td><td>0.0</td><td>100</td><td>0.0</td><td>-2.0</td></tr><tr><td>42</td><td>167275820076079</td><td>87971959760497</td><td>0</td><td>0</td><td>-1.0</td><td>0.0</td><td>0.0</td><td>100</td><td>0.0</td><td>-5.0</td></tr><tr><td>54</td><td>87971959760497</td><td>167275820076079</td><td>192168035</td><td>1921680121</td><td>6.0</td><td>40.0</td><td>0.0</td><td>100</td><td>80.0</td><td>-99.0</td></tr><tr><td>62</td><td>167275820076079</td><td>87971959760497</td><td>1921680121</td><td>192168035</td><td>6.0</td><td>48.0</td><td>0.0</td><td>1</td><td>54526.0</td><td>-99.0</td></tr><tr><td>288</td><td>167275820076079</td><td>87971959760497</td><td>1921680121</td><td>192168035</td><td>6.0</td><td>274.0</td><td>234.0</td><td>1</td><td>61893.0</td><td>-99.0</td></tr><tr><td>42</td><td>87971959760497</td><td>281474976710655</td><td>0</td><td>0</td><td>-1.0</td><td>0.0</td><td>0.0</td><td>100</td><td>0.0</td><td>-5.0</td></tr><tr><td>268</td><td>87971959760497</td><td>167275820076079</td><td>192168035</td><td>1921680121</td><td>6.0</td><td>254.840887</td><td>214.840887</td><td>100</td><td>80.0</td><td>11.52266</td></tr><tr><td>42</td><td>167275820076079</td><td>87971959760497</td><td>0</td><td>0</td><td>-1.0</td><td>0.0</td><td>0.0</td><td>100</td><td>0.0</td><td>-5.0</td></tr><tr><td>269</td><td>87971959760497</td><td>167275820076079</td><td>192168035</td><td>1921680121</td><td>6.0</td><td>255.0</td><td>215.0</td><td>100</td><td>80.0</td><td>74.0</td></tr><tr><td>42</td><td>167275820076079</td><td>189924305281355</td><td>0</td><td>0</td><td>-1.0</td><td>0.0</td><td>0.0</td><td>100</td><td>0.0</td><td>-4.0</td></tr><tr><td>&hellip;</td><td>&hellip;</td><td>&hellip;</td><td>&hellip;</td><td>&hellip;</td><td>&hellip;</td><td>&hellip;</td><td>&hellip;</td><td>&hellip;</td><td>&hellip;</td><td>&hellip;</td></tr><tr><td>54</td><td>167275820076079</td><td>87971959760497</td><td>1921680121</td><td>192168035</td><td>6.0</td><td>40.0</td><td>0.0</td><td>1</td><td>65386.0</td><td>-99.0</td></tr><tr><td>42</td><td>147762328785488</td><td>107485451051087</td><td>0</td><td>0</td><td>-1.0</td><td>0.0</td><td>0.0</td><td>100</td><td>0.0</td><td>-5.0</td></tr><tr><td>269</td><td>87971959760497</td><td>167275820076079</td><td>192168035</td><td>1921680121</td><td>6.0</td><td>255.0</td><td>215.0</td><td>100</td><td>80.0</td><td>84.192638</td></tr><tr><td>98</td><td>110425385261001</td><td>167275820076079</td><td>1921680183</td><td>1921680121</td><td>1.0</td><td>84.0</td><td>0.0</td><td>100</td><td>0.0</td><td>-2.0</td></tr><tr><td>196</td><td>189924305281355</td><td>167275820076079</td><td>1921680198</td><td>1921680121</td><td>6.0</td><td>182.0</td><td>130.0</td><td>100</td><td>80.0</td><td>-3.0</td></tr><tr><td>42</td><td>126371539974354</td><td>128876239862221</td><td>0</td><td>0</td><td>-1.0</td><td>0.0</td><td>0.0</td><td>100</td><td>0.0</td><td>-5.0</td></tr><tr><td>269</td><td>87971959760497</td><td>167275820076079</td><td>192168035</td><td>1921680121</td><td>6.0</td><td>255.0</td><td>215.0</td><td>100</td><td>80.0</td><td>74.0</td></tr><tr><td>42</td><td>167275820076079</td><td>110425385261001</td><td>0</td><td>0</td><td>-1.0</td><td>0.0</td><td>0.0</td><td>100</td><td>0.0</td><td>-4.0</td></tr><tr><td>174</td><td>189924305281355</td><td>167275820076079</td><td>1921680198</td><td>1921680121</td><td>6.0</td><td>160.0</td><td>108.0</td><td>100</td><td>80.0</td><td>-3.0</td></tr><tr><td>42</td><td>167275820076079</td><td>281474976710655</td><td>0</td><td>0</td><td>-1.0</td><td>0.0</td><td>0.0</td><td>100</td><td>0.0</td><td>-4.0</td></tr><tr><td>62</td><td>167275820076079</td><td>87971959760497</td><td>1921680121</td><td>192168035</td><td>6.0</td><td>48.0</td><td>0.0</td><td>1</td><td>62208.0</td><td>-99.0</td></tr><tr><td>269</td><td>87971959760497</td><td>167275820076079</td><td>192168035</td><td>1921680121</td><td>6.0</td><td>255.0</td><td>215.0</td><td>100</td><td>80.0</td><td>15.446292</td></tr></tbody></table></div>"
      ],
      "text/plain": [
       "shape: (95_485, 11)\n",
       "┌───────────┬────────────┬───────────┬───────────┬───┬─────────┬───────────┬───────────┬───────────┐\n",
       "│ frame.len ┆ eth.src    ┆ eth.dst   ┆ ip.src    ┆ … ┆ tcp.len ┆ tcp.srcpo ┆ tcp.dstpo ┆ Value     │\n",
       "│ ---       ┆ ---        ┆ ---       ┆ ---       ┆   ┆ ---     ┆ rt        ┆ rt        ┆ ---       │\n",
       "│ i64       ┆ i64        ┆ i64       ┆ i64       ┆   ┆ f64     ┆ ---       ┆ ---       ┆ f64       │\n",
       "│           ┆            ┆           ┆           ┆   ┆         ┆ i64       ┆ f64       ┆           │\n",
       "╞═══════════╪════════════╪═══════════╪═══════════╪═══╪═════════╪═══════════╪═══════════╪═══════════╡\n",
       "│ 169       ┆ 1104253852 ┆ 167275820 ┆ 192168018 ┆ … ┆ 103.0   ┆ 100       ┆ 80.0      ┆ -3.0      │\n",
       "│           ┆ 61001      ┆ 076079    ┆ 3         ┆   ┆         ┆           ┆           ┆           │\n",
       "│ 271       ┆ 8797195976 ┆ 167275820 ┆ 192168035 ┆ … ┆ 217.0   ┆ 100       ┆ 80.0      ┆ 2219.0    │\n",
       "│           ┆ 0497       ┆ 076079    ┆           ┆   ┆         ┆           ┆           ┆           │\n",
       "│ 98        ┆ 1672758200 ┆ 110425385 ┆ 192168012 ┆ … ┆ 0.0     ┆ 100       ┆ 0.0       ┆ -2.0      │\n",
       "│           ┆ 76079      ┆ 261001    ┆ 1         ┆   ┆         ┆           ┆           ┆           │\n",
       "│ 42        ┆ 1672758200 ┆ 879719597 ┆ 0         ┆ … ┆ 0.0     ┆ 100       ┆ 0.0       ┆ -5.0      │\n",
       "│           ┆ 76079      ┆ 60497     ┆           ┆   ┆         ┆           ┆           ┆           │\n",
       "│ …         ┆ …          ┆ …         ┆ …         ┆ … ┆ …       ┆ …         ┆ …         ┆ …         │\n",
       "│ 174       ┆ 1899243052 ┆ 167275820 ┆ 192168019 ┆ … ┆ 108.0   ┆ 100       ┆ 80.0      ┆ -3.0      │\n",
       "│           ┆ 81355      ┆ 076079    ┆ 8         ┆   ┆         ┆           ┆           ┆           │\n",
       "│ 42        ┆ 1672758200 ┆ 281474976 ┆ 0         ┆ … ┆ 0.0     ┆ 100       ┆ 0.0       ┆ -4.0      │\n",
       "│           ┆ 76079      ┆ 710655    ┆           ┆   ┆         ┆           ┆           ┆           │\n",
       "│ 62        ┆ 1672758200 ┆ 879719597 ┆ 192168012 ┆ … ┆ 0.0     ┆ 1         ┆ 62208.0   ┆ -99.0     │\n",
       "│           ┆ 76079      ┆ 60497     ┆ 1         ┆   ┆         ┆           ┆           ┆           │\n",
       "│ 269       ┆ 8797195976 ┆ 167275820 ┆ 192168035 ┆ … ┆ 215.0   ┆ 100       ┆ 80.0      ┆ 15.446292 │\n",
       "│           ┆ 0497       ┆ 076079    ┆           ┆   ┆         ┆           ┆           ┆           │\n",
       "└───────────┴────────────┴───────────┴───────────┴───┴─────────┴───────────┴───────────┴───────────┘"
      ]
     },
     "execution_count": 47,
     "metadata": {},
     "output_type": "execute_result"
    }
   ],
   "source": [
    "#X = df.drop(['frame.number', 'frame.time', 'normality', 'tcp.srcport', 'tcp.dstport']).drop_nulls().to_numpy()\n",
    "df = df.drop(['frame.number', 'frame.time', 'normality'])\n",
    "\n",
    "#print(f'{df.describe()}')\n",
    "\n",
    "df.with_columns(\n",
    "    pl.col('tcp.srcport')\n",
    "    .map_dict(ports_map, default=100)\n",
    "    .alias('tcp.srcport'))\n",
    "\n",
    "df.with_columns(\n",
    "    pl.col('tcp.dstport')\n",
    "    .map_dict(ports_map, default=100)\n",
    "    .alias('tcp.dstport'))\n",
    "#print(f'{df.describe()}')\n",
    "\n",
    "#y = df[['normality']].drop_nulls().to_numpy()\n",
    "#X"
   ]
  },
  {
   "cell_type": "code",
   "execution_count": null,
   "metadata": {},
   "outputs": [
    {
     "data": {
      "text/plain": [
       "array([[-0.74512937, -0.92229686,  0.12686458, ..., -0.58252828,\n",
       "        -0.68488704, -0.0164914 ],\n",
       "       [-0.87952902, -2.04786255,  0.12686458, ..., -0.99043482,\n",
       "        -0.68488704, -0.0031627 ],\n",
       "       [-0.87952902, -0.42097448,  0.12686458, ..., -0.99043482,\n",
       "        -0.68488704, -0.0031627 ],\n",
       "       ...,\n",
       "       [-0.87952902,  0.8483372 ,  0.57357151, ..., -0.99043482,\n",
       "        -0.68488704, -0.0031627 ],\n",
       "       [ 0.62126708,  1.35401471,  0.12686458, ...,  0.66158669,\n",
       "         0.55536894, -0.0030224 ],\n",
       "       [-0.87952902,  0.8483372 , -1.43728348, ..., -0.99043482,\n",
       "        -0.68488704, -0.00330301]])"
      ]
     },
     "execution_count": 79,
     "metadata": {},
     "output_type": "execute_result"
    }
   ],
   "source": [
    "scaler = StandardScaler()\n",
    "X_scaled = scaler.fit_transform(X)\n",
    "\n",
    "X_scaled"
   ]
  },
  {
   "cell_type": "code",
   "execution_count": null,
   "metadata": {},
   "outputs": [
    {
     "data": {
      "image/png": "[encoded data removed]",
      "text/plain": [
       "<Figure size 2000x500 with 1 Axes>"
      ]
     },
     "metadata": {},
     "output_type": "display_data"
    },
    {
     "data": {
      "text/plain": [
       "<Axes: title={'center': 'Distortion Score Elbow for KMeans Clustering'}, xlabel='k', ylabel='distortion score'>"
      ]
     },
     "execution_count": 80,
     "metadata": {},
     "output_type": "execute_result"
    }
   ],
   "source": [
    "# Instantiate the clustering model and visualizer\n",
    "model = KMeans(n_init='auto')\n",
    "visualizer = KElbowVisualizer(model, k=(2, 30), timings=False)\n",
    "\n",
    "visualizer.fit(X_scaled)  # Fit the data to the visualizer\n",
    "visualizer.show()  # Finalize and render the figure"
   ]
  },
  {
   "cell_type": "code",
   "execution_count": null,
   "metadata": {},
   "outputs": [],
   "source": [
    "k=8\n",
    "kmeans = KMeans(n_clusters=k, n_init='auto')\n",
    "kmeans.fit(X)\n",
    "distances = kmeans.transform(X)\n",
    "cluster_indices = kmeans.labels_"
   ]
  },
  {
   "cell_type": "code",
   "execution_count": null,
   "metadata": {},
   "outputs": [
    {
     "name": "stdout",
     "output_type": "stream",
     "text": [
      "thresholds: [0.00000000e+00 5.73731240e+11 2.53916975e+12 1.13807915e+05\n",
      " 1.02191708e+11 2.34951699e+09 7.42269727e+07 6.14761977e+10]\n",
      "[ True  True  True ...  True False  True]\n"
     ]
    }
   ],
   "source": [
    "mask = (cluster_indices[:, None] == np.arange(distances.shape[1]))\n",
    "distances[~mask] = 0\n",
    "\n",
    "dictionary = {i: column for i, column in enumerate(zip(*distances))}\n",
    "\n",
    "mean_distances = [sum(values) / len(values) for key, values in dictionary.items()]\n",
    "thresholds = np.array(mean_distances)  # thresholds als NumPy-Array anpassen\n",
    "\n",
    "print(f'thresholds: {thresholds}')\n",
    "\n",
    "outliers = np.any(np.array(distances) > thresholds, axis=1)  \n",
    "print(f'{outliers}')"
   ]
  },
  {
   "cell_type": "code",
   "execution_count": null,
   "metadata": {},
   "outputs": [
    {
     "name": "stdout",
     "output_type": "stream",
     "text": [
      "Accuracy:0.19970064399275508\n"
     ]
    }
   ],
   "source": [
    "filtered_outlier = y[outliers]\n",
    "\n",
    "filtered_labels = filtered_outlier[filtered_outlier != 0]\n",
    "\n",
    "count = (len(filtered_outlier) - len(filtered_labels)) / len(filtered_outlier)\n",
    "\n",
    "print(f'Accuracy:{count}')"
   ]
  }
 ],
 "metadata": {
  "kernelspec": {
   "display_name": "venv",
   "language": "python",
   "name": "python3"
  },
  "language_info": {
   "codemirror_mode": {
    "name": "ipython",
    "version": 3
   },
   "file_extension": ".py",
   "mimetype": "text/x-python",
   "name": "python",
   "nbconvert_exporter": "python",
   "pygments_lexer": "ipython3",
   "version": "3.9.18"
  }
 },
 "nbformat": 4,
 "nbformat_minor": 2
}
